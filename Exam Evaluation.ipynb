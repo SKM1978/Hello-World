{
 "cells": [
  {
   "cell_type": "markdown",
   "metadata": {},
   "source": [
    "## Evaluating a long answer based on presence of certain key words\n",
    "### Exam question : What is photosynthesis in plants ?\n",
    "\n",
    "### Criteria\n",
    "- the answer should have the key words (sunlight,chlorophyll,chemical,energy,carbon,dioxide,oxygen,water,minerals)"
   ]
  },
  {
   "cell_type": "code",
   "execution_count": 55,
   "metadata": {},
   "outputs": [
    {
     "name": "stdout",
     "output_type": "stream",
     "text": [
      "Enter the student's answer: Photosynthesis is the process by which green plants, algae and some forms of bacteria use energy from sunlight to convert carbon dioxide and water into glucose.\n",
      "****************************************************************************************************\n",
      "The answer has 5 unique keywords, out of a possible 9\n",
      "Marks awarded 5 out of 10\n"
     ]
    }
   ],
   "source": [
    "# holding the student answer in a string variable\n",
    "ans=str(input(\"Enter the student's answer: \"))\n",
    "\n",
    "# removing punctuation marks from the answer string\n",
    "punctuations='''!()-[]{};:'\"\\,<>./?@#$%^&*_~'''\n",
    "for i in ans:\n",
    "    if i in punctuations:\n",
    "        ans=ans.replace(i,\"\")\n",
    "ans_lower=ans.lower() # converting all words into lower case\n",
    "ans_list=set(ans_lower.split()) # splitting the string into a set of individual words\n",
    "\n",
    "# running a loop to count the key words\n",
    "key_words=[\"sunlight\",\"chlorophyll\",\"chemical\",\"energy\",\"carbon\",\"dioxide\",\"oxygen\",\"water\",\"minerals\"]\n",
    "keyword_count=0\n",
    "for j in ans_list:\n",
    "    if j in key_words:\n",
    "        keyword_count+=1\n",
    "\n",
    "# conditional statement to check number of keywords and allot marks accordingly        \n",
    "if keyword_count==9:\n",
    "    marks=10\n",
    "elif keyword_count in range(7,9):\n",
    "    marks=7\n",
    "elif keyword_count in range(5,7):\n",
    "    marks=5\n",
    "elif keyword_count in range(3,5):\n",
    "    marks=3\n",
    "elif keyword_count in range(1,3):\n",
    "    marks=2\n",
    "else:\n",
    "    marks=0\n",
    "    \n",
    "print(\"*\"*100)\n",
    "print(\"The answer has {} unique keywords, out of a possible 9\".format(keyword_count))\n",
    "print(\"Marks awarded {} out of 10\".format(marks))        "
   ]
  }
 ],
 "metadata": {
  "kernelspec": {
   "display_name": "Python 3",
   "language": "python",
   "name": "python3"
  },
  "language_info": {
   "codemirror_mode": {
    "name": "ipython",
    "version": 3
   },
   "file_extension": ".py",
   "mimetype": "text/x-python",
   "name": "python",
   "nbconvert_exporter": "python",
   "pygments_lexer": "ipython3",
   "version": "3.8.3"
  }
 },
 "nbformat": 4,
 "nbformat_minor": 4
}
