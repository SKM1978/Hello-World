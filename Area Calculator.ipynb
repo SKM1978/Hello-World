{
 "cells": [
  {
   "cell_type": "markdown",
   "metadata": {},
   "source": [
    "## Problem Statement:\n",
    "### Program to calculate area of shapes\n",
    "- User will suggest the shape\n",
    "- based on the shape suggested, necessary details to be shared by the user\n",
    "- the program then would share the area of the shape\n",
    "- square, rectangle, triangle, and circle are the basic shape options considered in this program"
   ]
  },
  {
   "cell_type": "code",
   "execution_count": 37,
   "metadata": {},
   "outputs": [
    {
     "name": "stdout",
     "output_type": "stream",
     "text": [
      "Select the shape from the below options: \n",
      " circle-1, square-2, triangle-3, rectangle-4, pentagon-5, hexagon-6:  4\n",
      "Length of the rectangle: 2\n",
      "Breadth of the rectangle: 1\n",
      "Area of the rectangle:  2\n"
     ]
    }
   ],
   "source": [
    "# defining the area calculation for four different shapes\n",
    "def area_sqr(x):\n",
    "    return x**2\n",
    "def area_rect(x,y):\n",
    "    return x*y\n",
    "def area_trng(b,h):\n",
    "    return (b*h)/2\n",
    "def area_cirl(r):\n",
    "    return 3.14*(r**2)\n",
    "import math\n",
    "from math import sqrt\n",
    "def area_pntg(a):\n",
    "    return (sqrt(5*(5+2*(sqrt(5))))*a*a)/4\n",
    "def area_hexa(s):\n",
    "    return ((3*math.sqrt(3)*(s*s))/2)\n",
    "\n",
    "shape=int(input(\"Select the shape from the below options: \\n circle-1, square-2, triangle-3, rectangle-4, pentagon-5, hexagon-6:  \"))\n",
    "if shape==2:\n",
    "    side_lngth=int(input(\"Length of a side of the square: \"))\n",
    "    area=area_sqr(side_lngth)\n",
    "    print(\"Area of the square: \",int(area))\n",
    "elif shape==4:\n",
    "    lngth=int(input(\"Length of the rectangle: \"))\n",
    "    brdth=int(input(\"Breadth of the rectangle: \"))\n",
    "    area=area_rect(lngth,brdth)\n",
    "    print(\"Area of the rectangle: \",int(area))\n",
    "elif shape==3:\n",
    "    base=int(input(\"Base of the triangle: \"))\n",
    "    hght=int(input(\"Height of the triangle: \"))\n",
    "    area=area_trng(base,hght)\n",
    "    print(\"Area of the triangle: \",int(area))\n",
    "elif shape==1:\n",
    "    radius=int(input(\"Radius of the circle: \"))\n",
    "    area=area_cirl(radius)\n",
    "    print(\"Area of the circle: \",int(area))\n",
    "elif shape==5:\n",
    "    lgth=int(input(\"Length of a side of the pentagon: \"))\n",
    "    area=area_pntg(lgth)\n",
    "    print(\"Area of the pentagon: \",int(area))\n",
    "elif shape==6:\n",
    "    side=int(input(\"Length of a side of the hexagon: \"))\n",
    "    area=area_hexa(side)\n",
    "    print(\"Area of the hexagon: \",int(area))\n",
    "else:\n",
    "    print(\"Shape not recognized by this program\")"
   ]
  }
 ],
 "metadata": {
  "kernelspec": {
   "display_name": "Python 3",
   "language": "python",
   "name": "python3"
  },
  "language_info": {
   "codemirror_mode": {
    "name": "ipython",
    "version": 3
   },
   "file_extension": ".py",
   "mimetype": "text/x-python",
   "name": "python",
   "nbconvert_exporter": "python",
   "pygments_lexer": "ipython3",
   "version": "3.8.3"
  }
 },
 "nbformat": 4,
 "nbformat_minor": 4
}
