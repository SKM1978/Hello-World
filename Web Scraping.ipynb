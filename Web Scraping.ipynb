{
 "cells": [
  {
   "cell_type": "markdown",
   "metadata": {},
   "source": [
    "## Web Scraping Mobile phone details from Flipkart\n",
    "- will scrape all the data available on Mobile phones in Flipkartm using BeautifulSoup library\n",
    "- convert the unstructured data into structured form and create a Dataframe\n",
    "- clean the dataframe from missing values and outliers\n",
    "- analyze the dataset and review the data through visualizations"
   ]
  },
  {
   "cell_type": "markdown",
   "metadata": {},
   "source": [
    "### Importing all the necessary libraries"
   ]
  },
  {
   "cell_type": "code",
   "execution_count": 2,
   "metadata": {},
   "outputs": [],
   "source": [
    "import requests\n",
    "from fake_useragent import UserAgent\n",
    "import pandas as pd\n",
    "import bs4   # importing BeautifulSoup4 library\n",
    "from bs4 import BeautifulSoup as bs"
   ]
  },
  {
   "cell_type": "markdown",
   "metadata": {},
   "source": [
    "## Part 1 : Scraping the data from the website"
   ]
  },
  {
   "cell_type": "markdown",
   "metadata": {},
   "source": [
    "### Will create empty lists to store the unstructured data in a structured form"
   ]
  },
  {
   "cell_type": "code",
   "execution_count": 41,
   "metadata": {},
   "outputs": [],
   "source": [
    "products=[]   # list to store names of the products\n",
    "prices=[]   # list to store prices of the products\n",
    "ratings=[]   # list to store ratings of the products\n",
    "specifications=[]   # list to select all the specifications of the products\n",
    "discounts=[]   # list to select all discounts of the products\n",
    "df=pd.DataFrame()"
   ]
  },
  {
   "cell_type": "code",
   "execution_count": 42,
   "metadata": {},
   "outputs": [],
   "source": [
    "# creating a user-agent\n",
    "user_agent=UserAgent()"
   ]
  },
  {
   "cell_type": "code",
   "execution_count": 43,
   "metadata": {},
   "outputs": [
    {
     "name": "stdout",
     "output_type": "stream",
     "text": [
      "Product Name- Mobile\n"
     ]
    }
   ],
   "source": [
    "# taking the product name as an input\n",
    "product_name=input('Product Name- ')"
   ]
  },
  {
   "cell_type": "markdown",
   "metadata": {},
   "source": [
    "### To extract from multiple pages in Flipkart will use a for loop"
   ]
  },
  {
   "cell_type": "code",
   "execution_count": 46,
   "metadata": {},
   "outputs": [],
   "source": [
    "for i in range (1,4):\n",
    "    url=\"https://www.flipkart.com/search?q={0}&page={1}\"\n",
    "    url=url.format(product_name,i)\n",
    "    \n",
    "    # getting response from the page using get method of requests module\n",
    "    page = requests.get(url, headers={\"user-agent\": user_agent.chrome})\n",
    "    \n",
    "    # storing the content of the page in a variable\n",
    "    html = page.content\n",
    "    \n",
    "    # creating BeautifulSoup object\n",
    "    page_soup = bs4.BeautifulSoup(html, \"html.parser\")\n",
    "    \n",
    "    for containers in page_soup.findAll('div',{'class':'_4ddWXP'}):\n",
    "        name=containers.find('a', attrs={'class':'s1Q9rs'})\n",
    "        price=containers.find('div', attrs={'class':'_30jeq3'})\n",
    "        rating=containers.find('div', attrs={'class':'_3LWZ1K'})\n",
    "        specification=containers.find('div', attrs={'class':'_3Djpdu'})\n",
    "        discount=containers.find('div', attrs={'class':'_3Ay6Sb'})\n",
    "                \n",
    "        products.append(name.text)\n",
    "        prices.append(price.text)\n",
    "        specifications.append(specification.text) if type(specification) == bs4.element.Tag  else specifications.append('NaN')\n",
    "        ratings.append(rating.text) if type(rating) == bs4.element.Tag  else ratings.append('NaN')\n",
    "        discounts.append(discount.text) if type(discount) == bs4.element.Tag else discounts.append('NaN')\n",
    "                \n",
    "    df = pd.DataFrame({'Product Name':products,'Price':prices, 'Specification':specifications, 'Rating':ratings, 'Discount':discounts})"
   ]
  },
  {
   "cell_type": "code",
   "execution_count": 47,
   "metadata": {},
   "outputs": [
    {
     "name": "stdout",
     "output_type": "stream",
     "text": [
      "<class 'pandas.core.frame.DataFrame'>\n",
      "RangeIndex: 240 entries, 0 to 239\n",
      "Data columns (total 5 columns):\n",
      " #   Column         Non-Null Count  Dtype \n",
      "---  ------         --------------  ----- \n",
      " 0   Product Name   240 non-null    object\n",
      " 1   Price          240 non-null    object\n",
      " 2   Specification  240 non-null    object\n",
      " 3   Rating         240 non-null    object\n",
      " 4   Discount       240 non-null    object\n",
      "dtypes: object(5)\n",
      "memory usage: 9.5+ KB\n"
     ]
    }
   ],
   "source": [
    "df.info()"
   ]
  },
  {
   "cell_type": "markdown",
   "metadata": {},
   "source": [
    "### We have scraped data for 240 mobile phones from Flipkart (which appear in first three pages)"
   ]
  },
  {
   "cell_type": "code",
   "execution_count": 48,
   "metadata": {},
   "outputs": [
    {
     "data": {
      "text/html": [
       "<div>\n",
       "<style scoped>\n",
       "    .dataframe tbody tr th:only-of-type {\n",
       "        vertical-align: middle;\n",
       "    }\n",
       "\n",
       "    .dataframe tbody tr th {\n",
       "        vertical-align: top;\n",
       "    }\n",
       "\n",
       "    .dataframe thead th {\n",
       "        text-align: right;\n",
       "    }\n",
       "</style>\n",
       "<table border=\"1\" class=\"dataframe\">\n",
       "  <thead>\n",
       "    <tr style=\"text-align: right;\">\n",
       "      <th></th>\n",
       "      <th>Product Name</th>\n",
       "      <th>Price</th>\n",
       "      <th>Specification</th>\n",
       "      <th>Rating</th>\n",
       "      <th>Discount</th>\n",
       "    </tr>\n",
       "  </thead>\n",
       "  <tbody>\n",
       "    <tr>\n",
       "      <th>0</th>\n",
       "      <td>POCO C3 (Matte Black, 64 GB)</td>\n",
       "      <td>₹8,499</td>\n",
       "      <td>4 GB RAM</td>\n",
       "      <td>NaN</td>\n",
       "      <td>22% off</td>\n",
       "    </tr>\n",
       "    <tr>\n",
       "      <th>1</th>\n",
       "      <td>POCO C3 (Arctic Blue, 64 GB)</td>\n",
       "      <td>₹8,499</td>\n",
       "      <td>4 GB RAM</td>\n",
       "      <td>NaN</td>\n",
       "      <td>22% off</td>\n",
       "    </tr>\n",
       "    <tr>\n",
       "      <th>2</th>\n",
       "      <td>realme C15 Qualcomm Edition (Power Blue, 64 GB)</td>\n",
       "      <td>₹10,999</td>\n",
       "      <td>4 GB RAM</td>\n",
       "      <td>NaN</td>\n",
       "      <td>15% off</td>\n",
       "    </tr>\n",
       "    <tr>\n",
       "      <th>3</th>\n",
       "      <td>realme C15 Qualcomm Edition (Power Silver, 64 GB)</td>\n",
       "      <td>₹10,999</td>\n",
       "      <td>4 GB RAM</td>\n",
       "      <td>NaN</td>\n",
       "      <td>15% off</td>\n",
       "    </tr>\n",
       "    <tr>\n",
       "      <th>4</th>\n",
       "      <td>POCO C3 (Arctic Blue, 32 GB)</td>\n",
       "      <td>₹7,499</td>\n",
       "      <td>3 GB RAM</td>\n",
       "      <td>NaN</td>\n",
       "      <td>25% off</td>\n",
       "    </tr>\n",
       "  </tbody>\n",
       "</table>\n",
       "</div>"
      ],
      "text/plain": [
       "                                        Product Name    Price Specification  \\\n",
       "0                       POCO C3 (Matte Black, 64 GB)   ₹8,499      4 GB RAM   \n",
       "1                       POCO C3 (Arctic Blue, 64 GB)   ₹8,499      4 GB RAM   \n",
       "2    realme C15 Qualcomm Edition (Power Blue, 64 GB)  ₹10,999      4 GB RAM   \n",
       "3  realme C15 Qualcomm Edition (Power Silver, 64 GB)  ₹10,999      4 GB RAM   \n",
       "4                       POCO C3 (Arctic Blue, 32 GB)   ₹7,499      3 GB RAM   \n",
       "\n",
       "  Rating Discount  \n",
       "0    NaN  22% off  \n",
       "1    NaN  22% off  \n",
       "2    NaN  15% off  \n",
       "3    NaN  15% off  \n",
       "4    NaN  25% off  "
      ]
     },
     "execution_count": 48,
     "metadata": {},
     "output_type": "execute_result"
    }
   ],
   "source": [
    "df.head()"
   ]
  },
  {
   "cell_type": "markdown",
   "metadata": {},
   "source": [
    "## Part 2 : Cleaning the dataset"
   ]
  },
  {
   "cell_type": "code",
   "execution_count": 49,
   "metadata": {},
   "outputs": [
    {
     "name": "stdout",
     "output_type": "stream",
     "text": [
      "<class 'pandas.core.frame.DataFrame'>\n",
      "RangeIndex: 240 entries, 0 to 239\n",
      "Data columns (total 5 columns):\n",
      " #   Column         Non-Null Count  Dtype \n",
      "---  ------         --------------  ----- \n",
      " 0   Product Name   240 non-null    object\n",
      " 1   Price          240 non-null    object\n",
      " 2   Specification  240 non-null    object\n",
      " 3   Rating         240 non-null    object\n",
      " 4   Discount       240 non-null    object\n",
      "dtypes: object(5)\n",
      "memory usage: 9.5+ KB\n"
     ]
    }
   ],
   "source": [
    "# looking at the data info\n",
    "df.info()"
   ]
  },
  {
   "cell_type": "code",
   "execution_count": 50,
   "metadata": {},
   "outputs": [
    {
     "data": {
      "text/plain": [
       "Product Name     0\n",
       "Price            0\n",
       "Specification    0\n",
       "Rating           0\n",
       "Discount         0\n",
       "dtype: int64"
      ]
     },
     "execution_count": 50,
     "metadata": {},
     "output_type": "execute_result"
    }
   ],
   "source": [
    "df.isnull().sum()"
   ]
  },
  {
   "cell_type": "markdown",
   "metadata": {},
   "source": [
    "### Inference\n",
    "- There are no null values in the dataset\n",
    "- Since the dataset is from a consumer facing website like Flipkart, there is not likely to be any outlier by mistake \n",
    "- However, two numerical column Price is shown as categorical object, which needs to be changed to integer variables"
   ]
  },
  {
   "cell_type": "code",
   "execution_count": 51,
   "metadata": {},
   "outputs": [
    {
     "data": {
      "text/html": [
       "<div>\n",
       "<style scoped>\n",
       "    .dataframe tbody tr th:only-of-type {\n",
       "        vertical-align: middle;\n",
       "    }\n",
       "\n",
       "    .dataframe tbody tr th {\n",
       "        vertical-align: top;\n",
       "    }\n",
       "\n",
       "    .dataframe thead th {\n",
       "        text-align: right;\n",
       "    }\n",
       "</style>\n",
       "<table border=\"1\" class=\"dataframe\">\n",
       "  <thead>\n",
       "    <tr style=\"text-align: right;\">\n",
       "      <th></th>\n",
       "      <th>Product Name</th>\n",
       "      <th>Price</th>\n",
       "      <th>Specification</th>\n",
       "      <th>Rating</th>\n",
       "      <th>Discount</th>\n",
       "    </tr>\n",
       "  </thead>\n",
       "  <tbody>\n",
       "    <tr>\n",
       "      <th>0</th>\n",
       "      <td>POCO C3 (Matte Black, 64 GB)</td>\n",
       "      <td>8499</td>\n",
       "      <td>4 GB RAM</td>\n",
       "      <td>NaN</td>\n",
       "      <td>22% off</td>\n",
       "    </tr>\n",
       "    <tr>\n",
       "      <th>1</th>\n",
       "      <td>POCO C3 (Arctic Blue, 64 GB)</td>\n",
       "      <td>8499</td>\n",
       "      <td>4 GB RAM</td>\n",
       "      <td>NaN</td>\n",
       "      <td>22% off</td>\n",
       "    </tr>\n",
       "    <tr>\n",
       "      <th>2</th>\n",
       "      <td>realme C15 Qualcomm Edition (Power Blue, 64 GB)</td>\n",
       "      <td>10999</td>\n",
       "      <td>4 GB RAM</td>\n",
       "      <td>NaN</td>\n",
       "      <td>15% off</td>\n",
       "    </tr>\n",
       "    <tr>\n",
       "      <th>3</th>\n",
       "      <td>realme C15 Qualcomm Edition (Power Silver, 64 GB)</td>\n",
       "      <td>10999</td>\n",
       "      <td>4 GB RAM</td>\n",
       "      <td>NaN</td>\n",
       "      <td>15% off</td>\n",
       "    </tr>\n",
       "    <tr>\n",
       "      <th>4</th>\n",
       "      <td>POCO C3 (Arctic Blue, 32 GB)</td>\n",
       "      <td>7499</td>\n",
       "      <td>3 GB RAM</td>\n",
       "      <td>NaN</td>\n",
       "      <td>25% off</td>\n",
       "    </tr>\n",
       "  </tbody>\n",
       "</table>\n",
       "</div>"
      ],
      "text/plain": [
       "                                        Product Name  Price Specification  \\\n",
       "0                       POCO C3 (Matte Black, 64 GB)   8499      4 GB RAM   \n",
       "1                       POCO C3 (Arctic Blue, 64 GB)   8499      4 GB RAM   \n",
       "2    realme C15 Qualcomm Edition (Power Blue, 64 GB)  10999      4 GB RAM   \n",
       "3  realme C15 Qualcomm Edition (Power Silver, 64 GB)  10999      4 GB RAM   \n",
       "4                       POCO C3 (Arctic Blue, 32 GB)   7499      3 GB RAM   \n",
       "\n",
       "  Rating Discount  \n",
       "0    NaN  22% off  \n",
       "1    NaN  22% off  \n",
       "2    NaN  15% off  \n",
       "3    NaN  15% off  \n",
       "4    NaN  25% off  "
      ]
     },
     "execution_count": 51,
     "metadata": {},
     "output_type": "execute_result"
    }
   ],
   "source": [
    "df['Price'] = df['Price'].str.lstrip('₹')\n",
    "df['Price'] = df['Price'].replace({',':''}, regex=True)\n",
    "df.head()"
   ]
  },
  {
   "cell_type": "code",
   "execution_count": 52,
   "metadata": {},
   "outputs": [],
   "source": [
    "# Saving the dataset in a csv file\n",
    "df.to_csv('Flipkart mobile_20th March.csv')\n",
    "df.to_html('Flipkart mobile.html')"
   ]
  },
  {
   "cell_type": "markdown",
   "metadata": {},
   "source": [
    "## Part 3: Visualizing and Analyzing the Dataset"
   ]
  },
  {
   "cell_type": "code",
   "execution_count": 5,
   "metadata": {},
   "outputs": [],
   "source": [
    "df1=pd.read_csv('Flipkart mobile_20th March.csv')"
   ]
  },
  {
   "cell_type": "code",
   "execution_count": 6,
   "metadata": {},
   "outputs": [],
   "source": [
    "# importing the visualization libraries\n",
    "import matplotlib.pyplot as plt\n",
    "import seaborn as sns"
   ]
  },
  {
   "cell_type": "code",
   "execution_count": 7,
   "metadata": {},
   "outputs": [
    {
     "data": {
      "image/png": "[encoded data removed]",
      "text/plain": [
       "<Figure size 432x288 with 1 Axes>"
      ]
     },
     "metadata": {
      "needs_background": "light"
     },
     "output_type": "display_data"
    }
   ],
   "source": [
    "# looking at the price histogram\n",
    "sns.distplot(df1['Price'])\n",
    "plt.show()\n"
   ]
  },
  {
   "cell_type": "code",
   "execution_count": 8,
   "metadata": {},
   "outputs": [
    {
     "data": {
      "text/html": [
       "<div>\n",
       "<style scoped>\n",
       "    .dataframe tbody tr th:only-of-type {\n",
       "        vertical-align: middle;\n",
       "    }\n",
       "\n",
       "    .dataframe tbody tr th {\n",
       "        vertical-align: top;\n",
       "    }\n",
       "\n",
       "    .dataframe thead th {\n",
       "        text-align: right;\n",
       "    }\n",
       "</style>\n",
       "<table border=\"1\" class=\"dataframe\">\n",
       "  <thead>\n",
       "    <tr style=\"text-align: right;\">\n",
       "      <th></th>\n",
       "      <th>Unnamed: 0</th>\n",
       "      <th>Price</th>\n",
       "      <th>Rating</th>\n",
       "    </tr>\n",
       "  </thead>\n",
       "  <tbody>\n",
       "    <tr>\n",
       "      <th>count</th>\n",
       "      <td>240.00000</td>\n",
       "      <td>240.000000</td>\n",
       "      <td>0.0</td>\n",
       "    </tr>\n",
       "    <tr>\n",
       "      <th>mean</th>\n",
       "      <td>119.50000</td>\n",
       "      <td>12780.816667</td>\n",
       "      <td>NaN</td>\n",
       "    </tr>\n",
       "    <tr>\n",
       "      <th>std</th>\n",
       "      <td>69.42622</td>\n",
       "      <td>7563.267297</td>\n",
       "      <td>NaN</td>\n",
       "    </tr>\n",
       "    <tr>\n",
       "      <th>min</th>\n",
       "      <td>0.00000</td>\n",
       "      <td>1147.000000</td>\n",
       "      <td>NaN</td>\n",
       "    </tr>\n",
       "    <tr>\n",
       "      <th>25%</th>\n",
       "      <td>59.75000</td>\n",
       "      <td>8990.000000</td>\n",
       "      <td>NaN</td>\n",
       "    </tr>\n",
       "    <tr>\n",
       "      <th>50%</th>\n",
       "      <td>119.50000</td>\n",
       "      <td>10999.000000</td>\n",
       "      <td>NaN</td>\n",
       "    </tr>\n",
       "    <tr>\n",
       "      <th>75%</th>\n",
       "      <td>179.25000</td>\n",
       "      <td>14999.000000</td>\n",
       "      <td>NaN</td>\n",
       "    </tr>\n",
       "    <tr>\n",
       "      <th>max</th>\n",
       "      <td>239.00000</td>\n",
       "      <td>46999.000000</td>\n",
       "      <td>NaN</td>\n",
       "    </tr>\n",
       "  </tbody>\n",
       "</table>\n",
       "</div>"
      ],
      "text/plain": [
       "       Unnamed: 0         Price  Rating\n",
       "count   240.00000    240.000000     0.0\n",
       "mean    119.50000  12780.816667     NaN\n",
       "std      69.42622   7563.267297     NaN\n",
       "min       0.00000   1147.000000     NaN\n",
       "25%      59.75000   8990.000000     NaN\n",
       "50%     119.50000  10999.000000     NaN\n",
       "75%     179.25000  14999.000000     NaN\n",
       "max     239.00000  46999.000000     NaN"
      ]
     },
     "execution_count": 8,
     "metadata": {},
     "output_type": "execute_result"
    }
   ],
   "source": [
    "df1.describe()"
   ]
  },
  {
   "cell_type": "markdown",
   "metadata": {},
   "source": [
    "### Price Range\n",
    "- the lowest priced mobile available is at Rs.1147\n",
    "- the most expensive mobile phone is at Rs.46999\n",
    "- half of the mobiles are available within a price range of Rs.8990 and 14999"
   ]
  },
  {
   "cell_type": "code",
   "execution_count": 9,
   "metadata": {},
   "outputs": [
    {
     "data": {
      "image/png": "[encoded data removed]",
      "text/plain": [
       "<Figure size 432x288 with 1 Axes>"
      ]
     },
     "metadata": {
      "needs_background": "light"
     },
     "output_type": "display_data"
    }
   ],
   "source": [
    "# looking at the Specifications\n",
    "sns.countplot(x='Specification', data=df1)\n",
    "plt.show()"
   ]
  },
  {
   "cell_type": "markdown",
   "metadata": {},
   "source": [
    "### Specifications\n",
    "- most of the mobile phones are of 4 GB RAM, followed by 6 GB RAM\n",
    "- not many mobiles are available at 2 GB RAM"
   ]
  },
  {
   "cell_type": "code",
   "execution_count": 10,
   "metadata": {},
   "outputs": [
    {
     "data": {
      "image/png": "[encoded data removed]",
      "text/plain": [
       "<Figure size 432x288 with 1 Axes>"
      ]
     },
     "metadata": {
      "needs_background": "light"
     },
     "output_type": "display_data"
    }
   ],
   "source": [
    "# Price and Specification\n",
    "sns.boxplot(x='Specification', y='Price', data=df1)\n",
    "plt.show()"
   ]
  },
  {
   "cell_type": "code",
   "execution_count": 11,
   "metadata": {},
   "outputs": [
    {
     "data": {
      "text/html": [
       "<div>\n",
       "<style scoped>\n",
       "    .dataframe tbody tr th:only-of-type {\n",
       "        vertical-align: middle;\n",
       "    }\n",
       "\n",
       "    .dataframe tbody tr th {\n",
       "        vertical-align: top;\n",
       "    }\n",
       "\n",
       "    .dataframe thead th {\n",
       "        text-align: right;\n",
       "    }\n",
       "</style>\n",
       "<table border=\"1\" class=\"dataframe\">\n",
       "  <thead>\n",
       "    <tr style=\"text-align: right;\">\n",
       "      <th></th>\n",
       "      <th>Unnamed: 0</th>\n",
       "      <th>Product Name</th>\n",
       "      <th>Price</th>\n",
       "      <th>Specification</th>\n",
       "      <th>Rating</th>\n",
       "      <th>Discount</th>\n",
       "    </tr>\n",
       "  </thead>\n",
       "  <tbody>\n",
       "    <tr>\n",
       "      <th>31</th>\n",
       "      <td>31</td>\n",
       "      <td>APPLE iPhone 11 (White, 64 GB)</td>\n",
       "      <td>46999</td>\n",
       "      <td>NaN</td>\n",
       "      <td>NaN</td>\n",
       "      <td>14% off</td>\n",
       "    </tr>\n",
       "    <tr>\n",
       "      <th>38</th>\n",
       "      <td>38</td>\n",
       "      <td>APPLE iPhone 11 (Black, 64 GB)</td>\n",
       "      <td>46999</td>\n",
       "      <td>NaN</td>\n",
       "      <td>NaN</td>\n",
       "      <td>14% off</td>\n",
       "    </tr>\n",
       "    <tr>\n",
       "      <th>61</th>\n",
       "      <td>61</td>\n",
       "      <td>APPLE iPhone 11 (Purple, 64 GB)</td>\n",
       "      <td>46999</td>\n",
       "      <td>NaN</td>\n",
       "      <td>NaN</td>\n",
       "      <td>14% off</td>\n",
       "    </tr>\n",
       "    <tr>\n",
       "      <th>150</th>\n",
       "      <td>150</td>\n",
       "      <td>APPLE iPhone 11 (White, 64 GB)</td>\n",
       "      <td>46999</td>\n",
       "      <td>NaN</td>\n",
       "      <td>NaN</td>\n",
       "      <td>14% off</td>\n",
       "    </tr>\n",
       "    <tr>\n",
       "      <th>161</th>\n",
       "      <td>161</td>\n",
       "      <td>APPLE iPhone 11 (Black, 64 GB)</td>\n",
       "      <td>46999</td>\n",
       "      <td>NaN</td>\n",
       "      <td>NaN</td>\n",
       "      <td>14% off</td>\n",
       "    </tr>\n",
       "    <tr>\n",
       "      <th>181</th>\n",
       "      <td>181</td>\n",
       "      <td>APPLE iPhone 11 (Purple, 64 GB)</td>\n",
       "      <td>46999</td>\n",
       "      <td>NaN</td>\n",
       "      <td>NaN</td>\n",
       "      <td>14% off</td>\n",
       "    </tr>\n",
       "  </tbody>\n",
       "</table>\n",
       "</div>"
      ],
      "text/plain": [
       "     Unnamed: 0                     Product Name  Price Specification  Rating  \\\n",
       "31           31   APPLE iPhone 11 (White, 64 GB)  46999           NaN     NaN   \n",
       "38           38   APPLE iPhone 11 (Black, 64 GB)  46999           NaN     NaN   \n",
       "61           61  APPLE iPhone 11 (Purple, 64 GB)  46999           NaN     NaN   \n",
       "150         150   APPLE iPhone 11 (White, 64 GB)  46999           NaN     NaN   \n",
       "161         161   APPLE iPhone 11 (Black, 64 GB)  46999           NaN     NaN   \n",
       "181         181  APPLE iPhone 11 (Purple, 64 GB)  46999           NaN     NaN   \n",
       "\n",
       "    Discount  \n",
       "31   14% off  \n",
       "38   14% off  \n",
       "61   14% off  \n",
       "150  14% off  \n",
       "161  14% off  \n",
       "181  14% off  "
      ]
     },
     "execution_count": 11,
     "metadata": {},
     "output_type": "execute_result"
    }
   ],
   "source": [
    "# finding the outlier in terms of price\n",
    "df1.loc[df1['Price']>40000]"
   ]
  },
  {
   "cell_type": "code",
   "execution_count": 12,
   "metadata": {},
   "outputs": [
    {
     "data": {
      "text/html": [
       "<div>\n",
       "<style scoped>\n",
       "    .dataframe tbody tr th:only-of-type {\n",
       "        vertical-align: middle;\n",
       "    }\n",
       "\n",
       "    .dataframe tbody tr th {\n",
       "        vertical-align: top;\n",
       "    }\n",
       "\n",
       "    .dataframe thead th {\n",
       "        text-align: right;\n",
       "    }\n",
       "</style>\n",
       "<table border=\"1\" class=\"dataframe\">\n",
       "  <thead>\n",
       "    <tr style=\"text-align: right;\">\n",
       "      <th></th>\n",
       "      <th>Unnamed: 0</th>\n",
       "      <th>Product Name</th>\n",
       "      <th>Price</th>\n",
       "      <th>Specification</th>\n",
       "      <th>Rating</th>\n",
       "      <th>Discount</th>\n",
       "    </tr>\n",
       "  </thead>\n",
       "  <tbody>\n",
       "    <tr>\n",
       "      <th>44</th>\n",
       "      <td>44</td>\n",
       "      <td>GIONEE Max (Royal Blue, 32 GB)</td>\n",
       "      <td>5499</td>\n",
       "      <td>2 GB RAM</td>\n",
       "      <td>NaN</td>\n",
       "      <td>31% off</td>\n",
       "    </tr>\n",
       "    <tr>\n",
       "      <th>45</th>\n",
       "      <td>45</td>\n",
       "      <td>GIONEE Max (Red, 32 GB)</td>\n",
       "      <td>5499</td>\n",
       "      <td>2 GB RAM</td>\n",
       "      <td>NaN</td>\n",
       "      <td>31% off</td>\n",
       "    </tr>\n",
       "    <tr>\n",
       "      <th>180</th>\n",
       "      <td>180</td>\n",
       "      <td>GIONEE Max (Black, 32 GB)</td>\n",
       "      <td>5499</td>\n",
       "      <td>2 GB RAM</td>\n",
       "      <td>NaN</td>\n",
       "      <td>31% off</td>\n",
       "    </tr>\n",
       "    <tr>\n",
       "      <th>60</th>\n",
       "      <td>60</td>\n",
       "      <td>GIONEE Max (Black, 32 GB)</td>\n",
       "      <td>5499</td>\n",
       "      <td>2 GB RAM</td>\n",
       "      <td>NaN</td>\n",
       "      <td>31% off</td>\n",
       "    </tr>\n",
       "    <tr>\n",
       "      <th>166</th>\n",
       "      <td>166</td>\n",
       "      <td>GIONEE Max (Red, 32 GB)</td>\n",
       "      <td>5499</td>\n",
       "      <td>2 GB RAM</td>\n",
       "      <td>NaN</td>\n",
       "      <td>31% off</td>\n",
       "    </tr>\n",
       "    <tr>\n",
       "      <th>165</th>\n",
       "      <td>165</td>\n",
       "      <td>GIONEE Max (Royal Blue, 32 GB)</td>\n",
       "      <td>5499</td>\n",
       "      <td>2 GB RAM</td>\n",
       "      <td>NaN</td>\n",
       "      <td>31% off</td>\n",
       "    </tr>\n",
       "    <tr>\n",
       "      <th>182</th>\n",
       "      <td>182</td>\n",
       "      <td>Infinix Smart HD 2021 (Quartz Green, 32 GB)</td>\n",
       "      <td>6499</td>\n",
       "      <td>2 GB RAM</td>\n",
       "      <td>NaN</td>\n",
       "      <td>18% off</td>\n",
       "    </tr>\n",
       "    <tr>\n",
       "      <th>62</th>\n",
       "      <td>62</td>\n",
       "      <td>Infinix Smart HD 2021 (Quartz Green, 32 GB)</td>\n",
       "      <td>6499</td>\n",
       "      <td>2 GB RAM</td>\n",
       "      <td>NaN</td>\n",
       "      <td>18% off</td>\n",
       "    </tr>\n",
       "    <tr>\n",
       "      <th>63</th>\n",
       "      <td>63</td>\n",
       "      <td>Infinix Smart HD 2021 (Topaz Blue, 32 GB)</td>\n",
       "      <td>6499</td>\n",
       "      <td>2 GB RAM</td>\n",
       "      <td>NaN</td>\n",
       "      <td>18% off</td>\n",
       "    </tr>\n",
       "    <tr>\n",
       "      <th>184</th>\n",
       "      <td>184</td>\n",
       "      <td>Infinix Smart HD 2021 (Topaz Blue, 32 GB)</td>\n",
       "      <td>6499</td>\n",
       "      <td>2 GB RAM</td>\n",
       "      <td>NaN</td>\n",
       "      <td>18% off</td>\n",
       "    </tr>\n",
       "    <tr>\n",
       "      <th>78</th>\n",
       "      <td>78</td>\n",
       "      <td>Infinix Smart 5 (7° Purple, 32 GB)</td>\n",
       "      <td>7199</td>\n",
       "      <td>2 GB RAM</td>\n",
       "      <td>NaN</td>\n",
       "      <td>20% off</td>\n",
       "    </tr>\n",
       "    <tr>\n",
       "      <th>174</th>\n",
       "      <td>174</td>\n",
       "      <td>Infinix Smart 5 (Obsidian Black, 32 GB)</td>\n",
       "      <td>7199</td>\n",
       "      <td>2 GB RAM</td>\n",
       "      <td>NaN</td>\n",
       "      <td>20% off</td>\n",
       "    </tr>\n",
       "    <tr>\n",
       "      <th>173</th>\n",
       "      <td>173</td>\n",
       "      <td>Infinix Smart 5 (Aegean Blue, 32 GB)</td>\n",
       "      <td>7199</td>\n",
       "      <td>2 GB RAM</td>\n",
       "      <td>NaN</td>\n",
       "      <td>20% off</td>\n",
       "    </tr>\n",
       "    <tr>\n",
       "      <th>167</th>\n",
       "      <td>167</td>\n",
       "      <td>Infinix Smart 5 (Morandi Green, 32 GB)</td>\n",
       "      <td>7199</td>\n",
       "      <td>2 GB RAM</td>\n",
       "      <td>NaN</td>\n",
       "      <td>20% off</td>\n",
       "    </tr>\n",
       "    <tr>\n",
       "      <th>198</th>\n",
       "      <td>198</td>\n",
       "      <td>Infinix Smart 5 (7° Purple, 32 GB)</td>\n",
       "      <td>7199</td>\n",
       "      <td>2 GB RAM</td>\n",
       "      <td>NaN</td>\n",
       "      <td>20% off</td>\n",
       "    </tr>\n",
       "    <tr>\n",
       "      <th>49</th>\n",
       "      <td>49</td>\n",
       "      <td>Infinix Smart 5 (Obsidian Black, 32 GB)</td>\n",
       "      <td>7199</td>\n",
       "      <td>2 GB RAM</td>\n",
       "      <td>NaN</td>\n",
       "      <td>20% off</td>\n",
       "    </tr>\n",
       "    <tr>\n",
       "      <th>48</th>\n",
       "      <td>48</td>\n",
       "      <td>Infinix Smart 5 (Aegean Blue, 32 GB)</td>\n",
       "      <td>7199</td>\n",
       "      <td>2 GB RAM</td>\n",
       "      <td>NaN</td>\n",
       "      <td>20% off</td>\n",
       "    </tr>\n",
       "    <tr>\n",
       "      <th>47</th>\n",
       "      <td>47</td>\n",
       "      <td>Infinix Smart 5 (Morandi Green, 32 GB)</td>\n",
       "      <td>7199</td>\n",
       "      <td>2 GB RAM</td>\n",
       "      <td>NaN</td>\n",
       "      <td>20% off</td>\n",
       "    </tr>\n",
       "    <tr>\n",
       "      <th>147</th>\n",
       "      <td>147</td>\n",
       "      <td>realme C11 (Rich Green, 32 GB)</td>\n",
       "      <td>7499</td>\n",
       "      <td>2 GB RAM</td>\n",
       "      <td>NaN</td>\n",
       "      <td>16% off</td>\n",
       "    </tr>\n",
       "    <tr>\n",
       "      <th>28</th>\n",
       "      <td>28</td>\n",
       "      <td>realme C11 (Rich Grey, 32 GB)</td>\n",
       "      <td>7499</td>\n",
       "      <td>2 GB RAM</td>\n",
       "      <td>NaN</td>\n",
       "      <td>16% off</td>\n",
       "    </tr>\n",
       "    <tr>\n",
       "      <th>154</th>\n",
       "      <td>154</td>\n",
       "      <td>realme C11 (Rich Grey, 32 GB)</td>\n",
       "      <td>7499</td>\n",
       "      <td>2 GB RAM</td>\n",
       "      <td>NaN</td>\n",
       "      <td>16% off</td>\n",
       "    </tr>\n",
       "    <tr>\n",
       "      <th>27</th>\n",
       "      <td>27</td>\n",
       "      <td>realme C11 (Rich Green, 32 GB)</td>\n",
       "      <td>7499</td>\n",
       "      <td>2 GB RAM</td>\n",
       "      <td>NaN</td>\n",
       "      <td>16% off</td>\n",
       "    </tr>\n",
       "  </tbody>\n",
       "</table>\n",
       "</div>"
      ],
      "text/plain": [
       "     Unnamed: 0                                 Product Name  Price  \\\n",
       "44           44               GIONEE Max (Royal Blue, 32 GB)   5499   \n",
       "45           45                      GIONEE Max (Red, 32 GB)   5499   \n",
       "180         180                    GIONEE Max (Black, 32 GB)   5499   \n",
       "60           60                    GIONEE Max (Black, 32 GB)   5499   \n",
       "166         166                      GIONEE Max (Red, 32 GB)   5499   \n",
       "165         165               GIONEE Max (Royal Blue, 32 GB)   5499   \n",
       "182         182  Infinix Smart HD 2021 (Quartz Green, 32 GB)   6499   \n",
       "62           62  Infinix Smart HD 2021 (Quartz Green, 32 GB)   6499   \n",
       "63           63    Infinix Smart HD 2021 (Topaz Blue, 32 GB)   6499   \n",
       "184         184    Infinix Smart HD 2021 (Topaz Blue, 32 GB)   6499   \n",
       "78           78           Infinix Smart 5 (7° Purple, 32 GB)   7199   \n",
       "174         174      Infinix Smart 5 (Obsidian Black, 32 GB)   7199   \n",
       "173         173         Infinix Smart 5 (Aegean Blue, 32 GB)   7199   \n",
       "167         167       Infinix Smart 5 (Morandi Green, 32 GB)   7199   \n",
       "198         198           Infinix Smart 5 (7° Purple, 32 GB)   7199   \n",
       "49           49      Infinix Smart 5 (Obsidian Black, 32 GB)   7199   \n",
       "48           48         Infinix Smart 5 (Aegean Blue, 32 GB)   7199   \n",
       "47           47       Infinix Smart 5 (Morandi Green, 32 GB)   7199   \n",
       "147         147               realme C11 (Rich Green, 32 GB)   7499   \n",
       "28           28                realme C11 (Rich Grey, 32 GB)   7499   \n",
       "154         154                realme C11 (Rich Grey, 32 GB)   7499   \n",
       "27           27               realme C11 (Rich Green, 32 GB)   7499   \n",
       "\n",
       "    Specification  Rating Discount  \n",
       "44       2 GB RAM     NaN  31% off  \n",
       "45       2 GB RAM     NaN  31% off  \n",
       "180      2 GB RAM     NaN  31% off  \n",
       "60       2 GB RAM     NaN  31% off  \n",
       "166      2 GB RAM     NaN  31% off  \n",
       "165      2 GB RAM     NaN  31% off  \n",
       "182      2 GB RAM     NaN  18% off  \n",
       "62       2 GB RAM     NaN  18% off  \n",
       "63       2 GB RAM     NaN  18% off  \n",
       "184      2 GB RAM     NaN  18% off  \n",
       "78       2 GB RAM     NaN  20% off  \n",
       "174      2 GB RAM     NaN  20% off  \n",
       "173      2 GB RAM     NaN  20% off  \n",
       "167      2 GB RAM     NaN  20% off  \n",
       "198      2 GB RAM     NaN  20% off  \n",
       "49       2 GB RAM     NaN  20% off  \n",
       "48       2 GB RAM     NaN  20% off  \n",
       "47       2 GB RAM     NaN  20% off  \n",
       "147      2 GB RAM     NaN  16% off  \n",
       "28       2 GB RAM     NaN  16% off  \n",
       "154      2 GB RAM     NaN  16% off  \n",
       "27       2 GB RAM     NaN  16% off  "
      ]
     },
     "execution_count": 12,
     "metadata": {},
     "output_type": "execute_result"
    }
   ],
   "source": [
    "# finding the lower price mobiles\n",
    "df1.loc[df1['Specification']=='2 GB RAM'].sort_values('Price', ascending=True)"
   ]
  },
  {
   "cell_type": "markdown",
   "metadata": {},
   "source": [
    "### Specification and Price\n",
    "- As expected, a higher GB RAM would be higher priced\n",
    "- 8 GB RAM would be priced around Rs.20000, with one outlier at Rs.46999 for iPhone 11\n",
    "- If anyone wants to buy a low priced 2 GB RAM phone, the lowest options available is GIONEE max at Rs.5499, Infinix at Rs.6499, realme at Rs.7499\n",
    "- If anyone wants a 4 GB RAM phone, there are more options available (around 80) within a very narrow price range (all are similar priced)\n",
    "- 6 GB and 8 GB RAM specifications are available across a much wider price range\n",
    "- this shows that the lower specification phones have competitive prices and brands cannot afford to price them differently, as there is not much differentiation otherwise\n",
    "- but higher specification phones (6 GB and 8 GB RAM) do not compete on only price and they would have other differentiating factors. Hence, brands can afford to price them differently. "
   ]
  },
  {
   "cell_type": "code",
   "execution_count": 13,
   "metadata": {},
   "outputs": [
    {
     "data": {
      "text/html": [
       "<div>\n",
       "<style scoped>\n",
       "    .dataframe tbody tr th:only-of-type {\n",
       "        vertical-align: middle;\n",
       "    }\n",
       "\n",
       "    .dataframe tbody tr th {\n",
       "        vertical-align: top;\n",
       "    }\n",
       "\n",
       "    .dataframe thead th {\n",
       "        text-align: right;\n",
       "    }\n",
       "</style>\n",
       "<table border=\"1\" class=\"dataframe\">\n",
       "  <thead>\n",
       "    <tr style=\"text-align: right;\">\n",
       "      <th></th>\n",
       "      <th>Unnamed: 0</th>\n",
       "      <th>Product Name</th>\n",
       "      <th>Price</th>\n",
       "      <th>Specification</th>\n",
       "      <th>Rating</th>\n",
       "      <th>Discount</th>\n",
       "      <th>Brand</th>\n",
       "    </tr>\n",
       "  </thead>\n",
       "  <tbody>\n",
       "    <tr>\n",
       "      <th>0</th>\n",
       "      <td>0</td>\n",
       "      <td>POCO C3 (Matte Black, 64 GB)</td>\n",
       "      <td>8499</td>\n",
       "      <td>4 GB RAM</td>\n",
       "      <td>NaN</td>\n",
       "      <td>22% off</td>\n",
       "      <td>POCO</td>\n",
       "    </tr>\n",
       "    <tr>\n",
       "      <th>1</th>\n",
       "      <td>1</td>\n",
       "      <td>POCO C3 (Arctic Blue, 64 GB)</td>\n",
       "      <td>8499</td>\n",
       "      <td>4 GB RAM</td>\n",
       "      <td>NaN</td>\n",
       "      <td>22% off</td>\n",
       "      <td>POCO</td>\n",
       "    </tr>\n",
       "    <tr>\n",
       "      <th>2</th>\n",
       "      <td>2</td>\n",
       "      <td>realme C15 Qualcomm Edition (Power Blue, 64 GB)</td>\n",
       "      <td>10999</td>\n",
       "      <td>4 GB RAM</td>\n",
       "      <td>NaN</td>\n",
       "      <td>15% off</td>\n",
       "      <td>realme</td>\n",
       "    </tr>\n",
       "    <tr>\n",
       "      <th>3</th>\n",
       "      <td>3</td>\n",
       "      <td>realme C15 Qualcomm Edition (Power Silver, 64 GB)</td>\n",
       "      <td>10999</td>\n",
       "      <td>4 GB RAM</td>\n",
       "      <td>NaN</td>\n",
       "      <td>15% off</td>\n",
       "      <td>realme</td>\n",
       "    </tr>\n",
       "    <tr>\n",
       "      <th>4</th>\n",
       "      <td>4</td>\n",
       "      <td>POCO C3 (Arctic Blue, 32 GB)</td>\n",
       "      <td>7499</td>\n",
       "      <td>3 GB RAM</td>\n",
       "      <td>NaN</td>\n",
       "      <td>25% off</td>\n",
       "      <td>POCO</td>\n",
       "    </tr>\n",
       "  </tbody>\n",
       "</table>\n",
       "</div>"
      ],
      "text/plain": [
       "   Unnamed: 0                                       Product Name  Price  \\\n",
       "0           0                       POCO C3 (Matte Black, 64 GB)   8499   \n",
       "1           1                       POCO C3 (Arctic Blue, 64 GB)   8499   \n",
       "2           2    realme C15 Qualcomm Edition (Power Blue, 64 GB)  10999   \n",
       "3           3  realme C15 Qualcomm Edition (Power Silver, 64 GB)  10999   \n",
       "4           4                       POCO C3 (Arctic Blue, 32 GB)   7499   \n",
       "\n",
       "  Specification  Rating Discount   Brand  \n",
       "0      4 GB RAM     NaN  22% off    POCO  \n",
       "1      4 GB RAM     NaN  22% off    POCO  \n",
       "2      4 GB RAM     NaN  15% off  realme  \n",
       "3      4 GB RAM     NaN  15% off  realme  \n",
       "4      3 GB RAM     NaN  25% off    POCO  "
      ]
     },
     "execution_count": 13,
     "metadata": {},
     "output_type": "execute_result"
    }
   ],
   "source": [
    "# adding another column in the dataset to show the brand using apply()\n",
    "def get_brand(prod_name):\n",
    "    return prod_name.split(' ')[0]\n",
    "\n",
    "df1['Brand']=df1['Product Name'].apply(lambda x: get_brand(x))\n",
    "df1.head()\n"
   ]
  },
  {
   "cell_type": "code",
   "execution_count": 14,
   "metadata": {},
   "outputs": [
    {
     "data": {
      "image/png": "[encoded data removed]",
      "text/plain": [
       "<Figure size 432x288 with 1 Axes>"
      ]
     },
     "metadata": {
      "needs_background": "light"
     },
     "output_type": "display_data"
    }
   ],
   "source": [
    "# checking brand wise product count\n",
    "sns.countplot(y='Brand', data=df1)\n",
    "plt.show()\n"
   ]
  },
  {
   "cell_type": "code",
   "execution_count": 15,
   "metadata": {},
   "outputs": [
    {
     "data": {
      "image/png": "[encoded data removed]",
      "text/plain": [
       "<Figure size 432x288 with 1 Axes>"
      ]
     },
     "metadata": {
      "needs_background": "light"
     },
     "output_type": "display_data"
    }
   ],
   "source": [
    "# checking brand wise price and specifications\n",
    "sns.boxplot(y='Brand', x='Price', data=df1)\n",
    "plt.show()"
   ]
  },
  {
   "cell_type": "code",
   "execution_count": 16,
   "metadata": {},
   "outputs": [
    {
     "data": {
      "text/plain": [
       "Brand\n",
       "APPLE       46999.000000\n",
       "Apple       38999.000000\n",
       "GIONEE       5499.000000\n",
       "IQOO        32990.000000\n",
       "Infinix      9304.263158\n",
       "MOTOROLA    10059.000000\n",
       "Nokia        1148.500000\n",
       "OPPO        12918.571429\n",
       "POCO        12476.272727\n",
       "Redmi       10199.000000\n",
       "SAMSUNG     16499.000000\n",
       "Tecno        8499.000000\n",
       "ViVO         9990.000000\n",
       "realme      12962.414634\n",
       "Name: Price, dtype: float64"
      ]
     },
     "execution_count": 16,
     "metadata": {},
     "output_type": "execute_result"
    }
   ],
   "source": [
    "df1.groupby(['Brand'])['Price'].mean()"
   ]
  },
  {
   "cell_type": "code",
   "execution_count": 17,
   "metadata": {},
   "outputs": [
    {
     "data": {
      "text/html": [
       "<div>\n",
       "<style scoped>\n",
       "    .dataframe tbody tr th:only-of-type {\n",
       "        vertical-align: middle;\n",
       "    }\n",
       "\n",
       "    .dataframe tbody tr th {\n",
       "        vertical-align: top;\n",
       "    }\n",
       "\n",
       "    .dataframe thead th {\n",
       "        text-align: right;\n",
       "    }\n",
       "</style>\n",
       "<table border=\"1\" class=\"dataframe\">\n",
       "  <thead>\n",
       "    <tr style=\"text-align: right;\">\n",
       "      <th></th>\n",
       "      <th>Unnamed: 0</th>\n",
       "      <th>Product Name</th>\n",
       "      <th>Price</th>\n",
       "      <th>Specification</th>\n",
       "      <th>Rating</th>\n",
       "      <th>Discount</th>\n",
       "      <th>Brand</th>\n",
       "    </tr>\n",
       "  </thead>\n",
       "  <tbody>\n",
       "    <tr>\n",
       "      <th>95</th>\n",
       "      <td>95</td>\n",
       "      <td>Nokia TA-1010/105</td>\n",
       "      <td>1150</td>\n",
       "      <td>Black</td>\n",
       "      <td>NaN</td>\n",
       "      <td>NaN</td>\n",
       "      <td>Nokia</td>\n",
       "    </tr>\n",
       "    <tr>\n",
       "      <th>109</th>\n",
       "      <td>109</td>\n",
       "      <td>Nokia 105 SS 2020</td>\n",
       "      <td>1147</td>\n",
       "      <td>Black</td>\n",
       "      <td>NaN</td>\n",
       "      <td>NaN</td>\n",
       "      <td>Nokia</td>\n",
       "    </tr>\n",
       "    <tr>\n",
       "      <th>215</th>\n",
       "      <td>215</td>\n",
       "      <td>Nokia TA-1010/105</td>\n",
       "      <td>1150</td>\n",
       "      <td>Black</td>\n",
       "      <td>NaN</td>\n",
       "      <td>NaN</td>\n",
       "      <td>Nokia</td>\n",
       "    </tr>\n",
       "    <tr>\n",
       "      <th>229</th>\n",
       "      <td>229</td>\n",
       "      <td>Nokia 105 SS 2020</td>\n",
       "      <td>1147</td>\n",
       "      <td>Black</td>\n",
       "      <td>NaN</td>\n",
       "      <td>NaN</td>\n",
       "      <td>Nokia</td>\n",
       "    </tr>\n",
       "  </tbody>\n",
       "</table>\n",
       "</div>"
      ],
      "text/plain": [
       "     Unnamed: 0       Product Name  Price Specification  Rating Discount  \\\n",
       "95           95  Nokia TA-1010/105   1150         Black     NaN      NaN   \n",
       "109         109  Nokia 105 SS 2020   1147         Black     NaN      NaN   \n",
       "215         215  Nokia TA-1010/105   1150         Black     NaN      NaN   \n",
       "229         229  Nokia 105 SS 2020   1147         Black     NaN      NaN   \n",
       "\n",
       "     Brand  \n",
       "95   Nokia  \n",
       "109  Nokia  \n",
       "215  Nokia  \n",
       "229  Nokia  "
      ]
     },
     "execution_count": 17,
     "metadata": {},
     "output_type": "execute_result"
    }
   ],
   "source": [
    "df1.loc[df1['Brand']=='Nokia']"
   ]
  },
  {
   "cell_type": "markdown",
   "metadata": {},
   "source": [
    "### Brands\n",
    "- Out of all the 240 products, one-third of them is from realme, followed by POCO and Infinix\n",
    "- Apple phones available at two price points Rs.38999 and 46999 (highest priced among all other brands)\n",
    "- IQOO is also a higher priced brand at Rs.32990\n",
    "- OPPO, POCO, realme all compete with each other at Rs.12000 to 13000 price range\n",
    "- Redmi and ViVO compete with each other at Rs.10000 price points\n",
    "- GIONEE is the lowest smart phone available at Rs.5499\n",
    "- Nokia phone available at Rs.1148, but in all probablity it would be a feature phone, since it doesn't show any specifications"
   ]
  },
  {
   "cell_type": "code",
   "execution_count": 21,
   "metadata": {},
   "outputs": [
    {
     "data": {
      "image/png": "[encoded data removed]",
      "text/plain": [
       "<Figure size 432x288 with 1 Axes>"
      ]
     },
     "metadata": {
      "needs_background": "light"
     },
     "output_type": "display_data"
    }
   ],
   "source": [
    "# checking discounts\n",
    "sns.countplot(y='Discount', data=df1)\n",
    "plt.show()"
   ]
  },
  {
   "cell_type": "code",
   "execution_count": 22,
   "metadata": {},
   "outputs": [
    {
     "data": {
      "text/html": [
       "<div>\n",
       "<style scoped>\n",
       "    .dataframe tbody tr th:only-of-type {\n",
       "        vertical-align: middle;\n",
       "    }\n",
       "\n",
       "    .dataframe tbody tr th {\n",
       "        vertical-align: top;\n",
       "    }\n",
       "\n",
       "    .dataframe thead th {\n",
       "        text-align: right;\n",
       "    }\n",
       "</style>\n",
       "<table border=\"1\" class=\"dataframe\">\n",
       "  <thead>\n",
       "    <tr style=\"text-align: right;\">\n",
       "      <th></th>\n",
       "      <th>Product Name</th>\n",
       "      <th>Price</th>\n",
       "      <th>Specification</th>\n",
       "      <th>Discount Range</th>\n",
       "    </tr>\n",
       "  </thead>\n",
       "  <tbody>\n",
       "    <tr>\n",
       "      <th>0</th>\n",
       "      <td>POCO C3 (Matte Black, 64 GB)</td>\n",
       "      <td>8499</td>\n",
       "      <td>4 GB RAM</td>\n",
       "      <td>21% to 25% off</td>\n",
       "    </tr>\n",
       "    <tr>\n",
       "      <th>1</th>\n",
       "      <td>POCO C3 (Arctic Blue, 64 GB)</td>\n",
       "      <td>8499</td>\n",
       "      <td>4 GB RAM</td>\n",
       "      <td>21% to 25% off</td>\n",
       "    </tr>\n",
       "    <tr>\n",
       "      <th>2</th>\n",
       "      <td>realme C15 Qualcomm Edition (Power Blue, 64 GB)</td>\n",
       "      <td>10999</td>\n",
       "      <td>4 GB RAM</td>\n",
       "      <td>10% to 15% off</td>\n",
       "    </tr>\n",
       "    <tr>\n",
       "      <th>3</th>\n",
       "      <td>realme C15 Qualcomm Edition (Power Silver, 64 GB)</td>\n",
       "      <td>10999</td>\n",
       "      <td>4 GB RAM</td>\n",
       "      <td>10% to 15% off</td>\n",
       "    </tr>\n",
       "    <tr>\n",
       "      <th>4</th>\n",
       "      <td>POCO C3 (Arctic Blue, 32 GB)</td>\n",
       "      <td>7499</td>\n",
       "      <td>3 GB RAM</td>\n",
       "      <td>21% to 25% off</td>\n",
       "    </tr>\n",
       "  </tbody>\n",
       "</table>\n",
       "</div>"
      ],
      "text/plain": [
       "                                        Product Name  Price Specification  \\\n",
       "0                       POCO C3 (Matte Black, 64 GB)   8499      4 GB RAM   \n",
       "1                       POCO C3 (Arctic Blue, 64 GB)   8499      4 GB RAM   \n",
       "2    realme C15 Qualcomm Edition (Power Blue, 64 GB)  10999      4 GB RAM   \n",
       "3  realme C15 Qualcomm Edition (Power Silver, 64 GB)  10999      4 GB RAM   \n",
       "4                       POCO C3 (Arctic Blue, 32 GB)   7499      3 GB RAM   \n",
       "\n",
       "   Discount Range  \n",
       "0  21% to 25% off  \n",
       "1  21% to 25% off  \n",
       "2  10% to 15% off  \n",
       "3  10% to 15% off  \n",
       "4  21% to 25% off  "
      ]
     },
     "execution_count": 22,
     "metadata": {},
     "output_type": "execute_result"
    }
   ],
   "source": [
    "df2=pd.read_csv('discount range.csv')\n",
    "df2.head()"
   ]
  },
  {
   "cell_type": "code",
   "execution_count": 26,
   "metadata": {},
   "outputs": [
    {
     "data": {
      "image/png": "[encoded data removed]",
      "text/plain": [
       "<Figure size 432x288 with 1 Axes>"
      ]
     },
     "metadata": {
      "needs_background": "light"
     },
     "output_type": "display_data"
    }
   ],
   "source": [
    "sns.countplot(y='Discount Range', data=df2)\n",
    "plt.show()"
   ]
  },
  {
   "cell_type": "code",
   "execution_count": 27,
   "metadata": {},
   "outputs": [],
   "source": [
    "def get_brand(prod_name):\n",
    "    return prod_name.split(' ')[0]\n",
    "\n",
    "df2['Brand']=df2['Product Name'].apply(lambda x: get_brand(x))"
   ]
  },
  {
   "cell_type": "code",
   "execution_count": 40,
   "metadata": {},
   "outputs": [
    {
     "data": {
      "text/html": [
       "<div>\n",
       "<style scoped>\n",
       "    .dataframe tbody tr th:only-of-type {\n",
       "        vertical-align: middle;\n",
       "    }\n",
       "\n",
       "    .dataframe tbody tr th {\n",
       "        vertical-align: top;\n",
       "    }\n",
       "\n",
       "    .dataframe thead th {\n",
       "        text-align: right;\n",
       "    }\n",
       "</style>\n",
       "<table border=\"1\" class=\"dataframe\">\n",
       "  <thead>\n",
       "    <tr style=\"text-align: right;\">\n",
       "      <th></th>\n",
       "      <th></th>\n",
       "      <th>Product Name</th>\n",
       "      <th>Price</th>\n",
       "      <th>Specification</th>\n",
       "    </tr>\n",
       "    <tr>\n",
       "      <th>Brand</th>\n",
       "      <th>Discount Range</th>\n",
       "      <th></th>\n",
       "      <th></th>\n",
       "      <th></th>\n",
       "    </tr>\n",
       "  </thead>\n",
       "  <tbody>\n",
       "    <tr>\n",
       "      <th>APPLE</th>\n",
       "      <th>10% to 15% off</th>\n",
       "      <td>6</td>\n",
       "      <td>6</td>\n",
       "      <td>0</td>\n",
       "    </tr>\n",
       "    <tr>\n",
       "      <th>Apple</th>\n",
       "      <th>16% to 20% off</th>\n",
       "      <td>2</td>\n",
       "      <td>2</td>\n",
       "      <td>0</td>\n",
       "    </tr>\n",
       "    <tr>\n",
       "      <th>GIONEE</th>\n",
       "      <th>above 25% off</th>\n",
       "      <td>6</td>\n",
       "      <td>6</td>\n",
       "      <td>6</td>\n",
       "    </tr>\n",
       "    <tr>\n",
       "      <th>IQOO</th>\n",
       "      <th>16% to 20% off</th>\n",
       "      <td>2</td>\n",
       "      <td>2</td>\n",
       "      <td>2</td>\n",
       "    </tr>\n",
       "    <tr>\n",
       "      <th rowspan=\"3\" valign=\"top\">Infinix</th>\n",
       "      <th>10% to 15% off</th>\n",
       "      <td>4</td>\n",
       "      <td>4</td>\n",
       "      <td>4</td>\n",
       "    </tr>\n",
       "    <tr>\n",
       "      <th>16% to 20% off</th>\n",
       "      <td>28</td>\n",
       "      <td>28</td>\n",
       "      <td>28</td>\n",
       "    </tr>\n",
       "    <tr>\n",
       "      <th>21% to 25% off</th>\n",
       "      <td>6</td>\n",
       "      <td>6</td>\n",
       "      <td>6</td>\n",
       "    </tr>\n",
       "    <tr>\n",
       "      <th rowspan=\"2\" valign=\"top\">MOTOROLA</th>\n",
       "      <th>21% to 25% off</th>\n",
       "      <td>4</td>\n",
       "      <td>4</td>\n",
       "      <td>4</td>\n",
       "    </tr>\n",
       "    <tr>\n",
       "      <th>above 25% off</th>\n",
       "      <td>6</td>\n",
       "      <td>6</td>\n",
       "      <td>6</td>\n",
       "    </tr>\n",
       "    <tr>\n",
       "      <th>Nokia</th>\n",
       "      <th>above 25% off</th>\n",
       "      <td>4</td>\n",
       "      <td>4</td>\n",
       "      <td>4</td>\n",
       "    </tr>\n",
       "    <tr>\n",
       "      <th rowspan=\"3\" valign=\"top\">OPPO</th>\n",
       "      <th>10% to 15% off</th>\n",
       "      <td>4</td>\n",
       "      <td>4</td>\n",
       "      <td>4</td>\n",
       "    </tr>\n",
       "    <tr>\n",
       "      <th>16% to 20% off</th>\n",
       "      <td>8</td>\n",
       "      <td>8</td>\n",
       "      <td>8</td>\n",
       "    </tr>\n",
       "    <tr>\n",
       "      <th>below 10% off</th>\n",
       "      <td>2</td>\n",
       "      <td>2</td>\n",
       "      <td>2</td>\n",
       "    </tr>\n",
       "    <tr>\n",
       "      <th rowspan=\"4\" valign=\"top\">POCO</th>\n",
       "      <th>10% to 15% off</th>\n",
       "      <td>16</td>\n",
       "      <td>16</td>\n",
       "      <td>16</td>\n",
       "    </tr>\n",
       "    <tr>\n",
       "      <th>16% to 20% off</th>\n",
       "      <td>2</td>\n",
       "      <td>2</td>\n",
       "      <td>2</td>\n",
       "    </tr>\n",
       "    <tr>\n",
       "      <th>21% to 25% off</th>\n",
       "      <td>24</td>\n",
       "      <td>24</td>\n",
       "      <td>24</td>\n",
       "    </tr>\n",
       "    <tr>\n",
       "      <th>above 25% off</th>\n",
       "      <td>2</td>\n",
       "      <td>2</td>\n",
       "      <td>2</td>\n",
       "    </tr>\n",
       "    <tr>\n",
       "      <th rowspan=\"2\" valign=\"top\">Redmi</th>\n",
       "      <th>16% to 20% off</th>\n",
       "      <td>12</td>\n",
       "      <td>12</td>\n",
       "      <td>12</td>\n",
       "    </tr>\n",
       "    <tr>\n",
       "      <th>21% to 25% off</th>\n",
       "      <td>8</td>\n",
       "      <td>8</td>\n",
       "      <td>8</td>\n",
       "    </tr>\n",
       "    <tr>\n",
       "      <th>SAMSUNG</th>\n",
       "      <th>21% to 25% off</th>\n",
       "      <td>6</td>\n",
       "      <td>6</td>\n",
       "      <td>6</td>\n",
       "    </tr>\n",
       "    <tr>\n",
       "      <th>Tecno</th>\n",
       "      <th>10% to 15% off</th>\n",
       "      <td>4</td>\n",
       "      <td>4</td>\n",
       "      <td>4</td>\n",
       "    </tr>\n",
       "    <tr>\n",
       "      <th>ViVO</th>\n",
       "      <th>above 25% off</th>\n",
       "      <td>2</td>\n",
       "      <td>2</td>\n",
       "      <td>2</td>\n",
       "    </tr>\n",
       "    <tr>\n",
       "      <th rowspan=\"3\" valign=\"top\">realme</th>\n",
       "      <th>10% to 15% off</th>\n",
       "      <td>28</td>\n",
       "      <td>28</td>\n",
       "      <td>28</td>\n",
       "    </tr>\n",
       "    <tr>\n",
       "      <th>16% to 20% off</th>\n",
       "      <td>34</td>\n",
       "      <td>34</td>\n",
       "      <td>34</td>\n",
       "    </tr>\n",
       "    <tr>\n",
       "      <th>below 10% off</th>\n",
       "      <td>20</td>\n",
       "      <td>20</td>\n",
       "      <td>20</td>\n",
       "    </tr>\n",
       "  </tbody>\n",
       "</table>\n",
       "</div>"
      ],
      "text/plain": [
       "                         Product Name  Price  Specification\n",
       "Brand    Discount Range                                    \n",
       "APPLE    10% to 15% off             6      6              0\n",
       "Apple    16% to 20% off             2      2              0\n",
       "GIONEE   above 25% off              6      6              6\n",
       "IQOO     16% to 20% off             2      2              2\n",
       "Infinix  10% to 15% off             4      4              4\n",
       "         16% to 20% off            28     28             28\n",
       "         21% to 25% off             6      6              6\n",
       "MOTOROLA 21% to 25% off             4      4              4\n",
       "         above 25% off              6      6              6\n",
       "Nokia    above 25% off              4      4              4\n",
       "OPPO     10% to 15% off             4      4              4\n",
       "         16% to 20% off             8      8              8\n",
       "         below 10% off              2      2              2\n",
       "POCO     10% to 15% off            16     16             16\n",
       "         16% to 20% off             2      2              2\n",
       "         21% to 25% off            24     24             24\n",
       "         above 25% off              2      2              2\n",
       "Redmi    16% to 20% off            12     12             12\n",
       "         21% to 25% off             8      8              8\n",
       "SAMSUNG  21% to 25% off             6      6              6\n",
       "Tecno    10% to 15% off             4      4              4\n",
       "ViVO     above 25% off              2      2              2\n",
       "realme   10% to 15% off            28     28             28\n",
       "         16% to 20% off            34     34             34\n",
       "         below 10% off             20     20             20"
      ]
     },
     "execution_count": 40,
     "metadata": {},
     "output_type": "execute_result"
    }
   ],
   "source": [
    "df2.groupby(['Brand', 'Discount Range']).count()"
   ]
  },
  {
   "cell_type": "code",
   "execution_count": 41,
   "metadata": {},
   "outputs": [],
   "source": [
    "df3=df2.loc[df2['Discount Range']=='below 10% off']\n",
    "df4=df2.loc[df2['Discount Range']=='10% to 15% off']\n",
    "df5=df2.loc[df2['Discount Range']=='16% to 20% off']\n",
    "df6=df2.loc[df2['Discount Range']=='21% to 25% off']\n",
    "df7=df2.loc[df2['Discount Range']=='above 25% off']"
   ]
  },
  {
   "cell_type": "code",
   "execution_count": 45,
   "metadata": {},
   "outputs": [
    {
     "data": {
      "image/png": "[encoded data removed]",
      "text/plain": [
       "<Figure size 1440x864 with 3 Axes>"
      ]
     },
     "metadata": {
      "needs_background": "light"
     },
     "output_type": "display_data"
    }
   ],
   "source": [
    "plt.figure(figsize=(20, 12))\n",
    "plt.subplot(2,3,1)\n",
    "sns.countplot(y='Brand', data = df4)\n",
    "plt.subplot(2,3,2)\n",
    "sns.countplot(y='Brand', data = df5)\n",
    "plt.subplot(2,3,3)\n",
    "sns.countplot(y='Brand', data = df6)\n",
    "plt.show()"
   ]
  },
  {
   "cell_type": "code",
   "execution_count": 19,
   "metadata": {},
   "outputs": [
    {
     "data": {
      "text/html": [
       "<div>\n",
       "<style scoped>\n",
       "    .dataframe tbody tr th:only-of-type {\n",
       "        vertical-align: middle;\n",
       "    }\n",
       "\n",
       "    .dataframe tbody tr th {\n",
       "        vertical-align: top;\n",
       "    }\n",
       "\n",
       "    .dataframe thead th {\n",
       "        text-align: right;\n",
       "    }\n",
       "</style>\n",
       "<table border=\"1\" class=\"dataframe\">\n",
       "  <thead>\n",
       "    <tr style=\"text-align: right;\">\n",
       "      <th></th>\n",
       "      <th>Unnamed: 0</th>\n",
       "      <th>Product Name</th>\n",
       "      <th>Price</th>\n",
       "      <th>Specification</th>\n",
       "      <th>Rating</th>\n",
       "      <th>Discount</th>\n",
       "    </tr>\n",
       "    <tr>\n",
       "      <th>Brand</th>\n",
       "      <th></th>\n",
       "      <th></th>\n",
       "      <th></th>\n",
       "      <th></th>\n",
       "      <th></th>\n",
       "      <th></th>\n",
       "    </tr>\n",
       "  </thead>\n",
       "  <tbody>\n",
       "    <tr>\n",
       "      <th>Infinix</th>\n",
       "      <td>24</td>\n",
       "      <td>24</td>\n",
       "      <td>24</td>\n",
       "      <td>24</td>\n",
       "      <td>0</td>\n",
       "      <td>24</td>\n",
       "    </tr>\n",
       "    <tr>\n",
       "      <th>POCO</th>\n",
       "      <td>2</td>\n",
       "      <td>2</td>\n",
       "      <td>2</td>\n",
       "      <td>2</td>\n",
       "      <td>0</td>\n",
       "      <td>2</td>\n",
       "    </tr>\n",
       "    <tr>\n",
       "      <th>Redmi</th>\n",
       "      <td>12</td>\n",
       "      <td>12</td>\n",
       "      <td>12</td>\n",
       "      <td>12</td>\n",
       "      <td>0</td>\n",
       "      <td>12</td>\n",
       "    </tr>\n",
       "    <tr>\n",
       "      <th>realme</th>\n",
       "      <td>4</td>\n",
       "      <td>4</td>\n",
       "      <td>4</td>\n",
       "      <td>4</td>\n",
       "      <td>0</td>\n",
       "      <td>4</td>\n",
       "    </tr>\n",
       "  </tbody>\n",
       "</table>\n",
       "</div>"
      ],
      "text/plain": [
       "         Unnamed: 0  Product Name  Price  Specification  Rating  Discount\n",
       "Brand                                                                    \n",
       "Infinix          24            24     24             24       0        24\n",
       "POCO              2             2      2              2       0         2\n",
       "Redmi            12            12     12             12       0        12\n",
       "realme            4             4      4              4       0         4"
      ]
     },
     "execution_count": 19,
     "metadata": {},
     "output_type": "execute_result"
    }
   ],
   "source": [
    "df2=df1.loc[df1['Discount']=='20% off']\n",
    "df2.groupby(['Brand']).count()"
   ]
  },
  {
   "cell_type": "code",
   "execution_count": 20,
   "metadata": {},
   "outputs": [
    {
     "data": {
      "image/png": "[encoded data removed]",
      "text/plain": [
       "<Figure size 432x288 with 1 Axes>"
      ]
     },
     "metadata": {
      "needs_background": "light"
     },
     "output_type": "display_data"
    }
   ],
   "source": [
    "# checking discounts\n",
    "sns.countplot(x='Specification', data=df2)\n",
    "plt.show()"
   ]
  },
  {
   "cell_type": "markdown",
   "metadata": {},
   "source": [
    "### Discounts\n",
    "- 42 phones are available at 20% off\n",
    "- 24 of these phones are from Infinix, 12 from Redmi\n",
    "- most of the 4 GB RAM variants are available at 20% discount"
   ]
  }
 ],
 "metadata": {
  "kernelspec": {
   "display_name": "Python 3",
   "language": "python",
   "name": "python3"
  },
  "language_info": {
   "codemirror_mode": {
    "name": "ipython",
    "version": 3
   },
   "file_extension": ".py",
   "mimetype": "text/x-python",
   "name": "python",
   "nbconvert_exporter": "python",
   "pygments_lexer": "ipython3",
   "version": "3.8.3"
  }
 },
 "nbformat": 4,
 "nbformat_minor": 4
}
