{
 "cells": [
  {
   "cell_type": "code",
   "execution_count": 1,
   "metadata": {},
   "outputs": [
    {
     "name": "stdout",
     "output_type": "stream",
     "text": [
      "which which team does Ashwin play for ? Rajasthan Royals\n",
      "which which team does Steve Smith play for ? Rajasthan Royals\n",
      "which which team is the winner of Champions League 2020 ? Bayern Munich\n",
      "which which team is the winner of Fifa World Cup 2018 ? France\n",
      "which which team does Alisson Baker play for ? Liverpool\n",
      "****************************************************************************************************\n",
      "Total Marks= 4\n",
      "Got one wrong\n"
     ]
    }
   ],
   "source": [
    "que=[\"which team does Ashwin play for\",\"which team does Steve Smith play for\",\"which team is the winner of Champions League 2020\",\"which team is the winner of Fifa World Cup 2018\",\"which team does Alisson Baker play for\"]\n",
    "ans=[\"Delhi Daredevils\",\"Rajasthan Royals\",\"Bayern Munich\",\"France\",\"Liverpool\"]\n",
    "marks=0\n",
    "j=0\n",
    "for i in ans:\n",
    "    a=input(\"which %s ? \"% que[j]).title()\n",
    "    j+=1\n",
    "    if a==i:\n",
    "        marks+=1\n",
    "print(\"*\"*100)\n",
    "print(\"Total Marks=\",marks)\n",
    "if marks==5:\n",
    "    print(\"Wow !!! You seem to follow both IPL and football.\")\n",
    "elif marks==4:\n",
    "    print(\"Got one wrong\")\n",
    "elif marks==3:\n",
    "    print(\"Got two wrongs\")\n",
    "elif marks==2:\n",
    "    print(\"Got three wrongs. You don't follow sports that closely.\")\n",
    "elif marks==1:\n",
    "    print(\"Got four wrongs. You don't follow sports that closely.\")\n",
    "else:\n",
    "    print(\"Got all wrong. You don't follow sports at all.\")"
   ]
  },
  {
   "cell_type": "code",
   "execution_count": null,
   "metadata": {},
   "outputs": [],
   "source": []
  }
 ],
 "metadata": {
  "kernelspec": {
   "display_name": "Python 3",
   "language": "python",
   "name": "python3"
  },
  "language_info": {
   "codemirror_mode": {
    "name": "ipython",
    "version": 3
   },
   "file_extension": ".py",
   "mimetype": "text/x-python",
   "name": "python",
   "nbconvert_exporter": "python",
   "pygments_lexer": "ipython3",
   "version": "3.8.3"
  }
 },
 "nbformat": 4,
 "nbformat_minor": 4
}
