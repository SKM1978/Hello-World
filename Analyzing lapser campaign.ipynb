{
 "cells": [
  {
   "cell_type": "markdown",
   "metadata": {},
   "source": [
    "## Lapser Campaign Analysis\n",
    "- around 1.2 cr customers have not shopped for last four months\n",
    "- a large scale sms campaign was launched to bring them back to stores\n",
    "- there were print, TVC campaigns running parallely, which could also have their impact\n",
    "- this study is trying to find any patterns in the result"
   ]
  },
  {
   "cell_type": "markdown",
   "metadata": {},
   "source": [
    "### Questions to find answers to\n",
    "- How many customers came to shop?\n",
    "- Which cohort saw higher conversion?\n",
    "- Which markets saw higher/ lower conversion?"
   ]
  },
  {
   "cell_type": "code",
   "execution_count": 2,
   "metadata": {},
   "outputs": [],
   "source": [
    "# importing the necessary libraries for analysis\n",
    "import pandas as pd\n",
    "import matplotlib.pyplot as plt\n",
    "import seaborn as sns"
   ]
  },
  {
   "cell_type": "code",
   "execution_count": 4,
   "metadata": {},
   "outputs": [
    {
     "data": {
      "text/html": [
       "<div>\n",
       "<style scoped>\n",
       "    .dataframe tbody tr th:only-of-type {\n",
       "        vertical-align: middle;\n",
       "    }\n",
       "\n",
       "    .dataframe tbody tr th {\n",
       "        vertical-align: top;\n",
       "    }\n",
       "\n",
       "    .dataframe thead th {\n",
       "        text-align: right;\n",
       "    }\n",
       "</style>\n",
       "<table border=\"1\" class=\"dataframe\">\n",
       "  <thead>\n",
       "    <tr style=\"text-align: right;\">\n",
       "      <th></th>\n",
       "      <th>Zone</th>\n",
       "      <th>City</th>\n",
       "      <th>Market</th>\n",
       "      <th>Feeder Town</th>\n",
       "      <th>Location</th>\n",
       "      <th>Competition Index</th>\n",
       "      <th>D-Mart</th>\n",
       "      <th>Food Competition</th>\n",
       "      <th>Fashion Competition</th>\n",
       "      <th>Store</th>\n",
       "      <th>...</th>\n",
       "      <th>FP Infrequent Target Base</th>\n",
       "      <th>FP Infrequent count</th>\n",
       "      <th>Non FP Target Base</th>\n",
       "      <th>Non FP count</th>\n",
       "      <th>FP Dormant Target Base</th>\n",
       "      <th>FP Dormant count</th>\n",
       "      <th>O2O Target Base</th>\n",
       "      <th>O2O count</th>\n",
       "      <th>Non FP Dormant Target Base</th>\n",
       "      <th>Non FP Dormant count</th>\n",
       "    </tr>\n",
       "  </thead>\n",
       "  <tbody>\n",
       "    <tr>\n",
       "      <th>0</th>\n",
       "      <td>EAST</td>\n",
       "      <td>DIBRUGARH</td>\n",
       "      <td>Smaller towns</td>\n",
       "      <td>Feeder Town</td>\n",
       "      <td>STAND-ALONE</td>\n",
       "      <td>Low</td>\n",
       "      <td>No</td>\n",
       "      <td>0.0</td>\n",
       "      <td>4.0</td>\n",
       "      <td>BB-DIBRUGARH-A.T.ROAD</td>\n",
       "      <td>...</td>\n",
       "      <td>1073</td>\n",
       "      <td>65.0</td>\n",
       "      <td>1456</td>\n",
       "      <td>81.0</td>\n",
       "      <td>8316</td>\n",
       "      <td>192.0</td>\n",
       "      <td>4403</td>\n",
       "      <td>80.0</td>\n",
       "      <td>8653</td>\n",
       "      <td>109.0</td>\n",
       "    </tr>\n",
       "    <tr>\n",
       "      <th>1</th>\n",
       "      <td>EAST</td>\n",
       "      <td>GUWAHATI</td>\n",
       "      <td>Mini Metro</td>\n",
       "      <td>Feeder Town</td>\n",
       "      <td>STAND-ALONE</td>\n",
       "      <td>High</td>\n",
       "      <td>No</td>\n",
       "      <td>2.0</td>\n",
       "      <td>7.0</td>\n",
       "      <td>BB-GUWAHATI-CITY SQUARE</td>\n",
       "      <td>...</td>\n",
       "      <td>3244</td>\n",
       "      <td>225.0</td>\n",
       "      <td>9085</td>\n",
       "      <td>660.0</td>\n",
       "      <td>28660</td>\n",
       "      <td>620.0</td>\n",
       "      <td>39697</td>\n",
       "      <td>744.0</td>\n",
       "      <td>59771</td>\n",
       "      <td>552.0</td>\n",
       "    </tr>\n",
       "    <tr>\n",
       "      <th>2</th>\n",
       "      <td>EAST</td>\n",
       "      <td>JORHAT</td>\n",
       "      <td>Smaller towns</td>\n",
       "      <td>Feeder Town</td>\n",
       "      <td>STAND-ALONE</td>\n",
       "      <td>Low</td>\n",
       "      <td>No</td>\n",
       "      <td>0.0</td>\n",
       "      <td>3.0</td>\n",
       "      <td>BB-JORHAT-MOUZA-NAGARMHAL-PATT</td>\n",
       "      <td>...</td>\n",
       "      <td>1244</td>\n",
       "      <td>126.0</td>\n",
       "      <td>3171</td>\n",
       "      <td>328.0</td>\n",
       "      <td>7745</td>\n",
       "      <td>257.0</td>\n",
       "      <td>5549</td>\n",
       "      <td>177.0</td>\n",
       "      <td>11216</td>\n",
       "      <td>173.0</td>\n",
       "    </tr>\n",
       "    <tr>\n",
       "      <th>3</th>\n",
       "      <td>EAST</td>\n",
       "      <td>SILCHAR</td>\n",
       "      <td>Smaller towns</td>\n",
       "      <td>Feeder Town</td>\n",
       "      <td>MALL BASED</td>\n",
       "      <td>Very Low</td>\n",
       "      <td>No</td>\n",
       "      <td>0.0</td>\n",
       "      <td>2.0</td>\n",
       "      <td>BB-SILCHAR-GOLDIGHI COMPLEX-DI</td>\n",
       "      <td>...</td>\n",
       "      <td>1285</td>\n",
       "      <td>133.0</td>\n",
       "      <td>4761</td>\n",
       "      <td>519.0</td>\n",
       "      <td>7300</td>\n",
       "      <td>262.0</td>\n",
       "      <td>6250</td>\n",
       "      <td>194.0</td>\n",
       "      <td>13048</td>\n",
       "      <td>195.0</td>\n",
       "    </tr>\n",
       "    <tr>\n",
       "      <th>4</th>\n",
       "      <td>EAST</td>\n",
       "      <td>BIHAR SHARIF</td>\n",
       "      <td>Smaller towns</td>\n",
       "      <td>NaN</td>\n",
       "      <td>STAND-ALONE</td>\n",
       "      <td>Very Low</td>\n",
       "      <td>No</td>\n",
       "      <td>0.0</td>\n",
       "      <td>2.0</td>\n",
       "      <td>BB-BIHARSHARIF-NAGESHWAR MALL</td>\n",
       "      <td>...</td>\n",
       "      <td>2932</td>\n",
       "      <td>270.0</td>\n",
       "      <td>1252</td>\n",
       "      <td>101.0</td>\n",
       "      <td>19161</td>\n",
       "      <td>567.0</td>\n",
       "      <td>2964</td>\n",
       "      <td>76.0</td>\n",
       "      <td>5608</td>\n",
       "      <td>71.0</td>\n",
       "    </tr>\n",
       "  </tbody>\n",
       "</table>\n",
       "<p>5 rows × 29 columns</p>\n",
       "</div>"
      ],
      "text/plain": [
       "   Zone          City         Market  Feeder Town     Location  \\\n",
       "0  EAST     DIBRUGARH  Smaller towns  Feeder Town  STAND-ALONE   \n",
       "1  EAST      GUWAHATI     Mini Metro  Feeder Town  STAND-ALONE   \n",
       "2  EAST        JORHAT  Smaller towns  Feeder Town  STAND-ALONE   \n",
       "3  EAST       SILCHAR  Smaller towns  Feeder Town   MALL BASED   \n",
       "4  EAST  BIHAR SHARIF  Smaller towns          NaN  STAND-ALONE   \n",
       "\n",
       "  Competition Index D-Mart  Food Competition  Fashion Competition  \\\n",
       "0               Low     No               0.0                  4.0   \n",
       "1              High     No               2.0                  7.0   \n",
       "2               Low     No               0.0                  3.0   \n",
       "3          Very Low     No               0.0                  2.0   \n",
       "4          Very Low     No               0.0                  2.0   \n",
       "\n",
       "                            Store  ...  FP Infrequent Target Base  \\\n",
       "0           BB-DIBRUGARH-A.T.ROAD  ...                       1073   \n",
       "1         BB-GUWAHATI-CITY SQUARE  ...                       3244   \n",
       "2  BB-JORHAT-MOUZA-NAGARMHAL-PATT  ...                       1244   \n",
       "3  BB-SILCHAR-GOLDIGHI COMPLEX-DI  ...                       1285   \n",
       "4   BB-BIHARSHARIF-NAGESHWAR MALL  ...                       2932   \n",
       "\n",
       "   FP Infrequent count  Non FP Target Base  Non FP count  \\\n",
       "0                 65.0                1456          81.0   \n",
       "1                225.0                9085         660.0   \n",
       "2                126.0                3171         328.0   \n",
       "3                133.0                4761         519.0   \n",
       "4                270.0                1252         101.0   \n",
       "\n",
       "   FP Dormant Target Base  FP Dormant count  O2O Target Base  O2O count  \\\n",
       "0                    8316             192.0             4403       80.0   \n",
       "1                   28660             620.0            39697      744.0   \n",
       "2                    7745             257.0             5549      177.0   \n",
       "3                    7300             262.0             6250      194.0   \n",
       "4                   19161             567.0             2964       76.0   \n",
       "\n",
       "   Non FP Dormant Target Base  Non FP Dormant count  \n",
       "0                        8653                 109.0  \n",
       "1                       59771                 552.0  \n",
       "2                       11216                 173.0  \n",
       "3                       13048                 195.0  \n",
       "4                        5608                  71.0  \n",
       "\n",
       "[5 rows x 29 columns]"
      ]
     },
     "execution_count": 4,
     "metadata": {},
     "output_type": "execute_result"
    }
   ],
   "source": [
    "# uploading the dataset to analyse\n",
    "df=pd.read_excel('4 wk dataset.xlsx')\n",
    "df.head()"
   ]
  },
  {
   "cell_type": "code",
   "execution_count": 5,
   "metadata": {},
   "outputs": [
    {
     "name": "stdout",
     "output_type": "stream",
     "text": [
      "<class 'pandas.core.frame.DataFrame'>\n",
      "RangeIndex: 285 entries, 0 to 284\n",
      "Data columns (total 29 columns):\n",
      " #   Column                      Non-Null Count  Dtype  \n",
      "---  ------                      --------------  -----  \n",
      " 0   Zone                        285 non-null    object \n",
      " 1   City                        285 non-null    object \n",
      " 2   Market                      285 non-null    object \n",
      " 3   Feeder Town                 75 non-null     object \n",
      " 4   Location                    285 non-null    object \n",
      " 5   Competition Index           278 non-null    object \n",
      " 6   D-Mart                      278 non-null    object \n",
      " 7   Food Competition            278 non-null    float64\n",
      " 8   Fashion Competition         278 non-null    float64\n",
      " 9   Store                       285 non-null    object \n",
      " 10  Total Target Base           285 non-null    int64  \n",
      " 11  Total count                 285 non-null    int64  \n",
      " 12  Current Bills               285 non-null    float64\n",
      " 13  pre #shopagain Bills        285 non-null    float64\n",
      " 14  pre-Covid Bills             285 non-null    float64\n",
      " 15  FP Regular Target Base      285 non-null    int64  \n",
      " 16  FP Regular count            284 non-null    float64\n",
      " 17  FP Fashion Target Base      285 non-null    int64  \n",
      " 18  FP Fashion count            284 non-null    float64\n",
      " 19  FP Infrequent Target Base   285 non-null    int64  \n",
      " 20  FP Infrequent count         284 non-null    float64\n",
      " 21  Non FP Target Base          285 non-null    int64  \n",
      " 22  Non FP count                284 non-null    float64\n",
      " 23  FP Dormant Target Base      285 non-null    int64  \n",
      " 24  FP Dormant count            284 non-null    float64\n",
      " 25  O2O Target Base             285 non-null    int64  \n",
      " 26  O2O count                   284 non-null    float64\n",
      " 27  Non FP Dormant Target Base  285 non-null    int64  \n",
      " 28  Non FP Dormant count        284 non-null    float64\n",
      "dtypes: float64(12), int64(9), object(8)\n",
      "memory usage: 64.7+ KB\n"
     ]
    }
   ],
   "source": [
    "df.info()"
   ]
  },
  {
   "cell_type": "code",
   "execution_count": 6,
   "metadata": {},
   "outputs": [
    {
     "data": {
      "text/plain": [
       "Zone                            0\n",
       "City                            0\n",
       "Market                          0\n",
       "Feeder Town                   210\n",
       "Location                        0\n",
       "Competition Index               7\n",
       "D-Mart                          7\n",
       "Food Competition                7\n",
       "Fashion Competition             7\n",
       "Store                           0\n",
       "Total Target Base               0\n",
       "Total count                     0\n",
       "Current Bills                   0\n",
       "pre #shopagain Bills            0\n",
       "pre-Covid Bills                 0\n",
       "FP Regular Target Base          0\n",
       "FP Regular count                1\n",
       "FP Fashion Target Base          0\n",
       "FP Fashion count                1\n",
       "FP Infrequent Target Base       0\n",
       "FP Infrequent count             1\n",
       "Non FP Target Base              0\n",
       "Non FP count                    1\n",
       "FP Dormant Target Base          0\n",
       "FP Dormant count                1\n",
       "O2O Target Base                 0\n",
       "O2O count                       1\n",
       "Non FP Dormant Target Base      0\n",
       "Non FP Dormant count            1\n",
       "dtype: int64"
      ]
     },
     "execution_count": 6,
     "metadata": {},
     "output_type": "execute_result"
    }
   ],
   "source": [
    "# where are the null values?\n",
    "df.isnull().sum()"
   ]
  },
  {
   "cell_type": "code",
   "execution_count": 7,
   "metadata": {},
   "outputs": [
    {
     "name": "stdout",
     "output_type": "stream",
     "text": [
      "<class 'pandas.core.frame.DataFrame'>\n",
      "RangeIndex: 285 entries, 0 to 284\n",
      "Data columns (total 29 columns):\n",
      " #   Column                      Non-Null Count  Dtype  \n",
      "---  ------                      --------------  -----  \n",
      " 0   Zone                        285 non-null    object \n",
      " 1   City                        285 non-null    object \n",
      " 2   Market                      285 non-null    object \n",
      " 3   Feeder Town                 285 non-null    object \n",
      " 4   Location                    285 non-null    object \n",
      " 5   Competition Index           278 non-null    object \n",
      " 6   D-Mart                      278 non-null    object \n",
      " 7   Food Competition            278 non-null    float64\n",
      " 8   Fashion Competition         278 non-null    float64\n",
      " 9   Store                       285 non-null    object \n",
      " 10  Total Target Base           285 non-null    int64  \n",
      " 11  Total count                 285 non-null    int64  \n",
      " 12  Current Bills               285 non-null    float64\n",
      " 13  pre #shopagain Bills        285 non-null    float64\n",
      " 14  pre-Covid Bills             285 non-null    float64\n",
      " 15  FP Regular Target Base      285 non-null    int64  \n",
      " 16  FP Regular count            284 non-null    float64\n",
      " 17  FP Fashion Target Base      285 non-null    int64  \n",
      " 18  FP Fashion count            284 non-null    float64\n",
      " 19  FP Infrequent Target Base   285 non-null    int64  \n",
      " 20  FP Infrequent count         284 non-null    float64\n",
      " 21  Non FP Target Base          285 non-null    int64  \n",
      " 22  Non FP count                284 non-null    float64\n",
      " 23  FP Dormant Target Base      285 non-null    int64  \n",
      " 24  FP Dormant count            284 non-null    float64\n",
      " 25  O2O Target Base             285 non-null    int64  \n",
      " 26  O2O count                   284 non-null    float64\n",
      " 27  Non FP Dormant Target Base  285 non-null    int64  \n",
      " 28  Non FP Dormant count        284 non-null    float64\n",
      "dtypes: float64(12), int64(9), object(8)\n",
      "memory usage: 64.7+ KB\n"
     ]
    }
   ],
   "source": [
    "# only one field has null values. Updating those null values with relevant label.\n",
    "df['Feeder Town'].fillna('Not Feeder Town', inplace=True)\n",
    "df.info()"
   ]
  },
  {
   "cell_type": "code",
   "execution_count": 8,
   "metadata": {},
   "outputs": [
    {
     "data": {
      "text/html": [
       "<div>\n",
       "<style scoped>\n",
       "    .dataframe tbody tr th:only-of-type {\n",
       "        vertical-align: middle;\n",
       "    }\n",
       "\n",
       "    .dataframe tbody tr th {\n",
       "        vertical-align: top;\n",
       "    }\n",
       "\n",
       "    .dataframe thead th {\n",
       "        text-align: right;\n",
       "    }\n",
       "</style>\n",
       "<table border=\"1\" class=\"dataframe\">\n",
       "  <thead>\n",
       "    <tr style=\"text-align: right;\">\n",
       "      <th></th>\n",
       "      <th>Food Competition</th>\n",
       "      <th>Fashion Competition</th>\n",
       "      <th>Total Target Base</th>\n",
       "      <th>Total count</th>\n",
       "      <th>Current Bills</th>\n",
       "      <th>pre #shopagain Bills</th>\n",
       "      <th>pre-Covid Bills</th>\n",
       "      <th>FP Regular Target Base</th>\n",
       "      <th>FP Regular count</th>\n",
       "      <th>FP Fashion Target Base</th>\n",
       "      <th>...</th>\n",
       "      <th>FP Infrequent Target Base</th>\n",
       "      <th>FP Infrequent count</th>\n",
       "      <th>Non FP Target Base</th>\n",
       "      <th>Non FP count</th>\n",
       "      <th>FP Dormant Target Base</th>\n",
       "      <th>FP Dormant count</th>\n",
       "      <th>O2O Target Base</th>\n",
       "      <th>O2O count</th>\n",
       "      <th>Non FP Dormant Target Base</th>\n",
       "      <th>Non FP Dormant count</th>\n",
       "    </tr>\n",
       "  </thead>\n",
       "  <tbody>\n",
       "    <tr>\n",
       "      <th>count</th>\n",
       "      <td>278.000000</td>\n",
       "      <td>278.000000</td>\n",
       "      <td>285.000000</td>\n",
       "      <td>285.000000</td>\n",
       "      <td>285.000000</td>\n",
       "      <td>285.000000</td>\n",
       "      <td>285.000000</td>\n",
       "      <td>285.000000</td>\n",
       "      <td>284.000000</td>\n",
       "      <td>285.000000</td>\n",
       "      <td>...</td>\n",
       "      <td>285.000000</td>\n",
       "      <td>284.000000</td>\n",
       "      <td>285.000000</td>\n",
       "      <td>284.000000</td>\n",
       "      <td>285.000000</td>\n",
       "      <td>284.000000</td>\n",
       "      <td>285.000000</td>\n",
       "      <td>284.000000</td>\n",
       "      <td>285.000000</td>\n",
       "      <td>284.000000</td>\n",
       "    </tr>\n",
       "    <tr>\n",
       "      <th>mean</th>\n",
       "      <td>1.651079</td>\n",
       "      <td>3.748201</td>\n",
       "      <td>40937.775439</td>\n",
       "      <td>1448.382456</td>\n",
       "      <td>3243.571930</td>\n",
       "      <td>3042.759649</td>\n",
       "      <td>6926.962034</td>\n",
       "      <td>2600.508772</td>\n",
       "      <td>324.809859</td>\n",
       "      <td>2937.333333</td>\n",
       "      <td>...</td>\n",
       "      <td>1982.877193</td>\n",
       "      <td>128.443662</td>\n",
       "      <td>2383.350877</td>\n",
       "      <td>181.573944</td>\n",
       "      <td>14638.364912</td>\n",
       "      <td>311.538732</td>\n",
       "      <td>6372.456140</td>\n",
       "      <td>144.299296</td>\n",
       "      <td>10022.884211</td>\n",
       "      <td>124.338028</td>\n",
       "    </tr>\n",
       "    <tr>\n",
       "      <th>std</th>\n",
       "      <td>1.408016</td>\n",
       "      <td>1.792860</td>\n",
       "      <td>21049.200623</td>\n",
       "      <td>727.736819</td>\n",
       "      <td>1487.592998</td>\n",
       "      <td>1492.043111</td>\n",
       "      <td>3090.577710</td>\n",
       "      <td>1263.471878</td>\n",
       "      <td>167.345580</td>\n",
       "      <td>1617.776832</td>\n",
       "      <td>...</td>\n",
       "      <td>954.803919</td>\n",
       "      <td>68.888605</td>\n",
       "      <td>1534.651946</td>\n",
       "      <td>130.085042</td>\n",
       "      <td>7347.588065</td>\n",
       "      <td>158.097910</td>\n",
       "      <td>4430.963613</td>\n",
       "      <td>97.571783</td>\n",
       "      <td>6660.542778</td>\n",
       "      <td>77.558266</td>\n",
       "    </tr>\n",
       "    <tr>\n",
       "      <th>min</th>\n",
       "      <td>0.000000</td>\n",
       "      <td>0.000000</td>\n",
       "      <td>828.000000</td>\n",
       "      <td>0.000000</td>\n",
       "      <td>0.000000</td>\n",
       "      <td>0.000000</td>\n",
       "      <td>603.812953</td>\n",
       "      <td>10.000000</td>\n",
       "      <td>0.000000</td>\n",
       "      <td>12.000000</td>\n",
       "      <td>...</td>\n",
       "      <td>16.000000</td>\n",
       "      <td>0.000000</td>\n",
       "      <td>38.000000</td>\n",
       "      <td>0.000000</td>\n",
       "      <td>385.000000</td>\n",
       "      <td>2.000000</td>\n",
       "      <td>46.000000</td>\n",
       "      <td>0.000000</td>\n",
       "      <td>52.000000</td>\n",
       "      <td>0.000000</td>\n",
       "    </tr>\n",
       "    <tr>\n",
       "      <th>25%</th>\n",
       "      <td>1.000000</td>\n",
       "      <td>2.000000</td>\n",
       "      <td>26295.000000</td>\n",
       "      <td>922.000000</td>\n",
       "      <td>2177.750000</td>\n",
       "      <td>1949.500000</td>\n",
       "      <td>4736.745584</td>\n",
       "      <td>1750.000000</td>\n",
       "      <td>194.750000</td>\n",
       "      <td>1797.000000</td>\n",
       "      <td>...</td>\n",
       "      <td>1368.000000</td>\n",
       "      <td>79.000000</td>\n",
       "      <td>1354.000000</td>\n",
       "      <td>90.750000</td>\n",
       "      <td>9684.000000</td>\n",
       "      <td>196.750000</td>\n",
       "      <td>3202.000000</td>\n",
       "      <td>76.000000</td>\n",
       "      <td>5604.000000</td>\n",
       "      <td>71.750000</td>\n",
       "    </tr>\n",
       "    <tr>\n",
       "      <th>50%</th>\n",
       "      <td>1.000000</td>\n",
       "      <td>4.000000</td>\n",
       "      <td>37445.000000</td>\n",
       "      <td>1293.000000</td>\n",
       "      <td>2907.250000</td>\n",
       "      <td>2714.500000</td>\n",
       "      <td>6327.961486</td>\n",
       "      <td>2444.000000</td>\n",
       "      <td>310.000000</td>\n",
       "      <td>2686.000000</td>\n",
       "      <td>...</td>\n",
       "      <td>1825.000000</td>\n",
       "      <td>114.500000</td>\n",
       "      <td>2066.000000</td>\n",
       "      <td>145.000000</td>\n",
       "      <td>13189.000000</td>\n",
       "      <td>279.500000</td>\n",
       "      <td>5368.000000</td>\n",
       "      <td>120.000000</td>\n",
       "      <td>8725.000000</td>\n",
       "      <td>106.000000</td>\n",
       "    </tr>\n",
       "    <tr>\n",
       "      <th>75%</th>\n",
       "      <td>2.000000</td>\n",
       "      <td>5.000000</td>\n",
       "      <td>52985.000000</td>\n",
       "      <td>1876.000000</td>\n",
       "      <td>3979.750000</td>\n",
       "      <td>3811.000000</td>\n",
       "      <td>8452.175674</td>\n",
       "      <td>3338.000000</td>\n",
       "      <td>423.750000</td>\n",
       "      <td>4015.000000</td>\n",
       "      <td>...</td>\n",
       "      <td>2537.000000</td>\n",
       "      <td>159.000000</td>\n",
       "      <td>2944.000000</td>\n",
       "      <td>226.500000</td>\n",
       "      <td>18654.000000</td>\n",
       "      <td>393.250000</td>\n",
       "      <td>8368.000000</td>\n",
       "      <td>186.750000</td>\n",
       "      <td>12919.000000</td>\n",
       "      <td>158.000000</td>\n",
       "    </tr>\n",
       "    <tr>\n",
       "      <th>max</th>\n",
       "      <td>7.000000</td>\n",
       "      <td>8.000000</td>\n",
       "      <td>152663.000000</td>\n",
       "      <td>4265.000000</td>\n",
       "      <td>8139.250000</td>\n",
       "      <td>8490.500000</td>\n",
       "      <td>20963.173141</td>\n",
       "      <td>7118.000000</td>\n",
       "      <td>887.000000</td>\n",
       "      <td>9963.000000</td>\n",
       "      <td>...</td>\n",
       "      <td>5706.000000</td>\n",
       "      <td>332.000000</td>\n",
       "      <td>9085.000000</td>\n",
       "      <td>726.000000</td>\n",
       "      <td>46207.000000</td>\n",
       "      <td>959.000000</td>\n",
       "      <td>39697.000000</td>\n",
       "      <td>744.000000</td>\n",
       "      <td>59771.000000</td>\n",
       "      <td>552.000000</td>\n",
       "    </tr>\n",
       "  </tbody>\n",
       "</table>\n",
       "<p>8 rows × 21 columns</p>\n",
       "</div>"
      ],
      "text/plain": [
       "       Food Competition  Fashion Competition  Total Target Base  Total count  \\\n",
       "count        278.000000           278.000000         285.000000   285.000000   \n",
       "mean           1.651079             3.748201       40937.775439  1448.382456   \n",
       "std            1.408016             1.792860       21049.200623   727.736819   \n",
       "min            0.000000             0.000000         828.000000     0.000000   \n",
       "25%            1.000000             2.000000       26295.000000   922.000000   \n",
       "50%            1.000000             4.000000       37445.000000  1293.000000   \n",
       "75%            2.000000             5.000000       52985.000000  1876.000000   \n",
       "max            7.000000             8.000000      152663.000000  4265.000000   \n",
       "\n",
       "       Current Bills  pre #shopagain Bills  pre-Covid Bills  \\\n",
       "count     285.000000            285.000000       285.000000   \n",
       "mean     3243.571930           3042.759649      6926.962034   \n",
       "std      1487.592998           1492.043111      3090.577710   \n",
       "min         0.000000              0.000000       603.812953   \n",
       "25%      2177.750000           1949.500000      4736.745584   \n",
       "50%      2907.250000           2714.500000      6327.961486   \n",
       "75%      3979.750000           3811.000000      8452.175674   \n",
       "max      8139.250000           8490.500000     20963.173141   \n",
       "\n",
       "       FP Regular Target Base  FP Regular count  FP Fashion Target Base  ...  \\\n",
       "count              285.000000        284.000000              285.000000  ...   \n",
       "mean              2600.508772        324.809859             2937.333333  ...   \n",
       "std               1263.471878        167.345580             1617.776832  ...   \n",
       "min                 10.000000          0.000000               12.000000  ...   \n",
       "25%               1750.000000        194.750000             1797.000000  ...   \n",
       "50%               2444.000000        310.000000             2686.000000  ...   \n",
       "75%               3338.000000        423.750000             4015.000000  ...   \n",
       "max               7118.000000        887.000000             9963.000000  ...   \n",
       "\n",
       "       FP Infrequent Target Base  FP Infrequent count  Non FP Target Base  \\\n",
       "count                 285.000000           284.000000          285.000000   \n",
       "mean                 1982.877193           128.443662         2383.350877   \n",
       "std                   954.803919            68.888605         1534.651946   \n",
       "min                    16.000000             0.000000           38.000000   \n",
       "25%                  1368.000000            79.000000         1354.000000   \n",
       "50%                  1825.000000           114.500000         2066.000000   \n",
       "75%                  2537.000000           159.000000         2944.000000   \n",
       "max                  5706.000000           332.000000         9085.000000   \n",
       "\n",
       "       Non FP count  FP Dormant Target Base  FP Dormant count  \\\n",
       "count    284.000000              285.000000        284.000000   \n",
       "mean     181.573944            14638.364912        311.538732   \n",
       "std      130.085042             7347.588065        158.097910   \n",
       "min        0.000000              385.000000          2.000000   \n",
       "25%       90.750000             9684.000000        196.750000   \n",
       "50%      145.000000            13189.000000        279.500000   \n",
       "75%      226.500000            18654.000000        393.250000   \n",
       "max      726.000000            46207.000000        959.000000   \n",
       "\n",
       "       O2O Target Base   O2O count  Non FP Dormant Target Base  \\\n",
       "count       285.000000  284.000000                  285.000000   \n",
       "mean       6372.456140  144.299296                10022.884211   \n",
       "std        4430.963613   97.571783                 6660.542778   \n",
       "min          46.000000    0.000000                   52.000000   \n",
       "25%        3202.000000   76.000000                 5604.000000   \n",
       "50%        5368.000000  120.000000                 8725.000000   \n",
       "75%        8368.000000  186.750000                12919.000000   \n",
       "max       39697.000000  744.000000                59771.000000   \n",
       "\n",
       "       Non FP Dormant count  \n",
       "count            284.000000  \n",
       "mean             124.338028  \n",
       "std               77.558266  \n",
       "min                0.000000  \n",
       "25%               71.750000  \n",
       "50%              106.000000  \n",
       "75%              158.000000  \n",
       "max              552.000000  \n",
       "\n",
       "[8 rows x 21 columns]"
      ]
     },
     "execution_count": 8,
     "metadata": {},
     "output_type": "execute_result"
    }
   ],
   "source": [
    "df.describe()"
   ]
  },
  {
   "cell_type": "code",
   "execution_count": 9,
   "metadata": {},
   "outputs": [
    {
     "data": {
      "text/plain": [
       "11667266"
      ]
     },
     "execution_count": 9,
     "metadata": {},
     "output_type": "execute_result"
    }
   ],
   "source": [
    "df['Total Target Base'].sum()"
   ]
  },
  {
   "cell_type": "markdown",
   "metadata": {},
   "source": [
    "## Targeting 117 lakhs customers\n",
    "- Each store has around 37k customers to target\n",
    "- The larger stores (top 25%) had 53k customers\n",
    "- The top store had 1.5 lakhs customers to target"
   ]
  },
  {
   "cell_type": "code",
   "execution_count": 10,
   "metadata": {},
   "outputs": [
    {
     "data": {
      "text/plain": [
       "412789"
      ]
     },
     "execution_count": 10,
     "metadata": {},
     "output_type": "execute_result"
    }
   ],
   "source": [
    "df['Total count'].sum()"
   ]
  },
  {
   "cell_type": "markdown",
   "metadata": {},
   "source": [
    "## 4.1 lakhs customers came to shop with us\n",
    "- on an average, 1300 customers for a store\n",
    "- max turn out was 4265 customers in a store"
   ]
  },
  {
   "cell_type": "markdown",
   "metadata": {},
   "source": [
    "## Conversion rate across different cohorts"
   ]
  },
  {
   "cell_type": "code",
   "execution_count": 11,
   "metadata": {},
   "outputs": [],
   "source": [
    "df['FP Regular conversion']=(df['FP Regular count']/df['FP Regular Target Base'])*100\n",
    "df['FP Fashion conversion']=(df['FP Fashion count']/df['FP Fashion Target Base'])*100\n",
    "df['FP Infrequent conversion']=(df['FP Infrequent count']/df['FP Infrequent Target Base'])*100\n",
    "df['Non FP conversion']=(df['Non FP count']/df['Non FP Target Base'])*100\n",
    "df['FP Dormant conversion']=(df['FP Dormant count']/df['FP Dormant Target Base'])*100\n",
    "df['O2O conversion']=(df['O2O count']/df['O2O Target Base'])*100\n",
    "df['Non FP Dormant conversion']=(df['Non FP Dormant count']/df['Non FP Dormant Target Base'])*100"
   ]
  },
  {
   "cell_type": "code",
   "execution_count": 12,
   "metadata": {},
   "outputs": [
    {
     "name": "stdout",
     "output_type": "stream",
     "text": [
      "FP Regular conversion:  12.367696812330056\n",
      "FP Fashion conversion:  8.14591187051303\n",
      "FP Infrequent conversion:  6.2642608413494685\n",
      "Non FP conversion:  7.397922779436232\n",
      "FP Dormant conversion:  2.092916999500005\n",
      "O2O conversion:  2.257154739933976\n",
      "Non FP Dormant conversion:  1.2602570137652056\n"
     ]
    }
   ],
   "source": [
    "print('FP Regular conversion: ',df['FP Regular conversion'].median())\n",
    "print('FP Fashion conversion: ',df['FP Fashion conversion'].median())\n",
    "print('FP Infrequent conversion: ',df['FP Infrequent conversion'].median())\n",
    "print('Non FP conversion: ',df['Non FP conversion'].median())\n",
    "print('FP Dormant conversion: ',df['FP Dormant conversion'].median())\n",
    "print('O2O conversion: ',df['O2O conversion'].median())\n",
    "print('Non FP Dormant conversion: ',df['Non FP Dormant conversion'].median())"
   ]
  },
  {
   "cell_type": "markdown",
   "metadata": {},
   "source": [
    "### Cohort wise conversion\n",
    "- FP Regulars saw 12% conversion, which is the highest\n",
    "- FP Fashion, FP Infrequent, Non FP cohorts saw around 7% conversion\n",
    "- FP Dormant, Non FP Dormant and O2O base saw less than 2% conversion"
   ]
  },
  {
   "cell_type": "code",
   "execution_count": 16,
   "metadata": {},
   "outputs": [],
   "source": [
    "df['Regular conversion']=(df['FP Regular count']+df['FP Fashion count']+df['FP Infrequent count']+df['Non FP count'])/(df['FP Regular Target Base']+df['FP Fashion Target Base']+df['FP Infrequent Target Base']+df['Non FP Target Base'])"
   ]
  },
  {
   "cell_type": "code",
   "execution_count": 20,
   "metadata": {},
   "outputs": [
    {
     "data": {
      "image/png": "[encoded data removed]",
      "text/plain": [
       "<Figure size 432x288 with 1 Axes>"
      ]
     },
     "metadata": {
      "needs_background": "light"
     },
     "output_type": "display_data"
    }
   ],
   "source": [
    "sns.barplot(x='Zone', y='Regular conversion', data=df)\n",
    "plt.show()"
   ]
  },
  {
   "cell_type": "code",
   "execution_count": 19,
   "metadata": {},
   "outputs": [],
   "source": [
    "df['Dormant conversion']=(df['FP Dormant count']+df['Non FP Dormant count']+df['O2O count'])/(df['FP Dormant Target Base']+df['Non FP Dormant Target Base']+df['O2O Target Base'])"
   ]
  },
  {
   "cell_type": "code",
   "execution_count": 21,
   "metadata": {},
   "outputs": [
    {
     "data": {
      "image/png": "[encoded data removed]",
      "text/plain": [
       "<Figure size 432x288 with 1 Axes>"
      ]
     },
     "metadata": {
      "needs_background": "light"
     },
     "output_type": "display_data"
    }
   ],
   "source": [
    "sns.barplot(x='Zone', y='Dormant conversion', data=df)\n",
    "plt.show()"
   ]
  },
  {
   "cell_type": "markdown",
   "metadata": {},
   "source": [
    "### Zone wise response\n",
    "- East and North saw better response from regular customers\n",
    "- South and West saw poorer response from regular customers\n",
    "- North saw a better response from dormant customer base, followed by East"
   ]
  },
  {
   "cell_type": "code",
   "execution_count": 34,
   "metadata": {},
   "outputs": [
    {
     "data": {
      "text/html": [
       "<div>\n",
       "<style scoped>\n",
       "    .dataframe tbody tr th:only-of-type {\n",
       "        vertical-align: middle;\n",
       "    }\n",
       "\n",
       "    .dataframe tbody tr th {\n",
       "        vertical-align: top;\n",
       "    }\n",
       "\n",
       "    .dataframe thead th {\n",
       "        text-align: right;\n",
       "    }\n",
       "</style>\n",
       "<table border=\"1\" class=\"dataframe\">\n",
       "  <thead>\n",
       "    <tr style=\"text-align: right;\">\n",
       "      <th></th>\n",
       "      <th>Store</th>\n",
       "      <th>Regular conversion</th>\n",
       "    </tr>\n",
       "  </thead>\n",
       "  <tbody>\n",
       "    <tr>\n",
       "      <th>2</th>\n",
       "      <td>BB-JORHAT-MOUZA-NAGARMHAL-PATT</td>\n",
       "      <td>0.121282</td>\n",
       "    </tr>\n",
       "    <tr>\n",
       "      <th>3</th>\n",
       "      <td>BB-SILCHAR-GOLDIGHI COMPLEX-DI</td>\n",
       "      <td>0.128537</td>\n",
       "    </tr>\n",
       "    <tr>\n",
       "      <th>5</th>\n",
       "      <td>BB-KODERMA-UJALA COMPLEX</td>\n",
       "      <td>0.140011</td>\n",
       "    </tr>\n",
       "    <tr>\n",
       "      <th>44</th>\n",
       "      <td>BB-JAJPUR-UTKAL CENTER POINT</td>\n",
       "      <td>0.129080</td>\n",
       "    </tr>\n",
       "    <tr>\n",
       "      <th>57</th>\n",
       "      <td>BB-DARJEELING-RINK MALL</td>\n",
       "      <td>0.126514</td>\n",
       "    </tr>\n",
       "    <tr>\n",
       "      <th>113</th>\n",
       "      <td>BB-NEW DELHI-PACIFIC MALL</td>\n",
       "      <td>0.131786</td>\n",
       "    </tr>\n",
       "    <tr>\n",
       "      <th>126</th>\n",
       "      <td>BB-NOIDA-GAUR CITY</td>\n",
       "      <td>0.129096</td>\n",
       "    </tr>\n",
       "    <tr>\n",
       "      <th>134</th>\n",
       "      <td>BB-BADDI-HOMELAND CITY MALL</td>\n",
       "      <td>0.138679</td>\n",
       "    </tr>\n",
       "    <tr>\n",
       "      <th>155</th>\n",
       "      <td>BB-FAIZABAD-DEVKALI ROAD</td>\n",
       "      <td>0.122134</td>\n",
       "    </tr>\n",
       "    <tr>\n",
       "      <th>208</th>\n",
       "      <td>BB-DARBHANGA-JHA COMPLEX</td>\n",
       "      <td>0.145998</td>\n",
       "    </tr>\n",
       "  </tbody>\n",
       "</table>\n",
       "</div>"
      ],
      "text/plain": [
       "                              Store  Regular conversion\n",
       "2    BB-JORHAT-MOUZA-NAGARMHAL-PATT            0.121282\n",
       "3    BB-SILCHAR-GOLDIGHI COMPLEX-DI            0.128537\n",
       "5          BB-KODERMA-UJALA COMPLEX            0.140011\n",
       "44     BB-JAJPUR-UTKAL CENTER POINT            0.129080\n",
       "57          BB-DARJEELING-RINK MALL            0.126514\n",
       "113       BB-NEW DELHI-PACIFIC MALL            0.131786\n",
       "126              BB-NOIDA-GAUR CITY            0.129096\n",
       "134     BB-BADDI-HOMELAND CITY MALL            0.138679\n",
       "155        BB-FAIZABAD-DEVKALI ROAD            0.122134\n",
       "208        BB-DARBHANGA-JHA COMPLEX            0.145998"
      ]
     },
     "execution_count": 34,
     "metadata": {},
     "output_type": "execute_result"
    }
   ],
   "source": [
    "# finding the outlier stores in this case\n",
    "outlier_regular=df.loc[(df['Regular conversion']>0.12) & (df['Regular conversion']<0.25)]\n",
    "outlier_regular[['Store', 'Regular conversion']].head(10)"
   ]
  },
  {
   "cell_type": "code",
   "execution_count": 36,
   "metadata": {},
   "outputs": [
    {
     "data": {
      "text/html": [
       "<div>\n",
       "<style scoped>\n",
       "    .dataframe tbody tr th:only-of-type {\n",
       "        vertical-align: middle;\n",
       "    }\n",
       "\n",
       "    .dataframe tbody tr th {\n",
       "        vertical-align: top;\n",
       "    }\n",
       "\n",
       "    .dataframe thead th {\n",
       "        text-align: right;\n",
       "    }\n",
       "</style>\n",
       "<table border=\"1\" class=\"dataframe\">\n",
       "  <thead>\n",
       "    <tr style=\"text-align: right;\">\n",
       "      <th></th>\n",
       "      <th>Store</th>\n",
       "      <th>Dormant conversion</th>\n",
       "    </tr>\n",
       "  </thead>\n",
       "  <tbody>\n",
       "    <tr>\n",
       "      <th>5</th>\n",
       "      <td>BB-KODERMA-UJALA COMPLEX</td>\n",
       "      <td>0.038497</td>\n",
       "    </tr>\n",
       "    <tr>\n",
       "      <th>42</th>\n",
       "      <td>BB-BHUBANESWAR-SYMPHONY MALL</td>\n",
       "      <td>0.031405</td>\n",
       "    </tr>\n",
       "    <tr>\n",
       "      <th>44</th>\n",
       "      <td>BB-JAJPUR-UTKAL CENTER POINT</td>\n",
       "      <td>0.075733</td>\n",
       "    </tr>\n",
       "    <tr>\n",
       "      <th>113</th>\n",
       "      <td>BB-NEW DELHI-PACIFIC MALL</td>\n",
       "      <td>0.042619</td>\n",
       "    </tr>\n",
       "    <tr>\n",
       "      <th>126</th>\n",
       "      <td>BB-NOIDA-GAUR CITY</td>\n",
       "      <td>0.046586</td>\n",
       "    </tr>\n",
       "    <tr>\n",
       "      <th>132</th>\n",
       "      <td>BB-SONIPAT-TARANA ROAD</td>\n",
       "      <td>0.093373</td>\n",
       "    </tr>\n",
       "    <tr>\n",
       "      <th>155</th>\n",
       "      <td>BB-FAIZABAD-DEVKALI ROAD</td>\n",
       "      <td>0.034288</td>\n",
       "    </tr>\n",
       "    <tr>\n",
       "      <th>208</th>\n",
       "      <td>BB-DARBHANGA-JHA COMPLEX</td>\n",
       "      <td>0.042201</td>\n",
       "    </tr>\n",
       "    <tr>\n",
       "      <th>283</th>\n",
       "      <td>BB-HALDIA-CITY CENTER</td>\n",
       "      <td>0.030751</td>\n",
       "    </tr>\n",
       "  </tbody>\n",
       "</table>\n",
       "</div>"
      ],
      "text/plain": [
       "                            Store  Dormant conversion\n",
       "5        BB-KODERMA-UJALA COMPLEX            0.038497\n",
       "42   BB-BHUBANESWAR-SYMPHONY MALL            0.031405\n",
       "44   BB-JAJPUR-UTKAL CENTER POINT            0.075733\n",
       "113     BB-NEW DELHI-PACIFIC MALL            0.042619\n",
       "126            BB-NOIDA-GAUR CITY            0.046586\n",
       "132        BB-SONIPAT-TARANA ROAD            0.093373\n",
       "155      BB-FAIZABAD-DEVKALI ROAD            0.034288\n",
       "208      BB-DARBHANGA-JHA COMPLEX            0.042201\n",
       "283         BB-HALDIA-CITY CENTER            0.030751"
      ]
     },
     "execution_count": 36,
     "metadata": {},
     "output_type": "execute_result"
    }
   ],
   "source": [
    "outlier_dormant=df.loc[(df['Dormant conversion']>0.03) & (df['Dormant conversion']<0.15)]\n",
    "outlier_dormant[['Store', 'Dormant conversion']].head(10)"
   ]
  },
  {
   "cell_type": "code",
   "execution_count": 39,
   "metadata": {},
   "outputs": [
    {
     "data": {
      "text/html": [
       "<div>\n",
       "<style scoped>\n",
       "    .dataframe tbody tr th:only-of-type {\n",
       "        vertical-align: middle;\n",
       "    }\n",
       "\n",
       "    .dataframe tbody tr th {\n",
       "        vertical-align: top;\n",
       "    }\n",
       "\n",
       "    .dataframe thead th {\n",
       "        text-align: right;\n",
       "    }\n",
       "</style>\n",
       "<table border=\"1\" class=\"dataframe\">\n",
       "  <thead>\n",
       "    <tr style=\"text-align: right;\">\n",
       "      <th></th>\n",
       "      <th>Store</th>\n",
       "      <th>Regular conversion</th>\n",
       "    </tr>\n",
       "  </thead>\n",
       "  <tbody>\n",
       "    <tr>\n",
       "      <th>32</th>\n",
       "      <td>BB-NAGPUR-LAND MARK</td>\n",
       "      <td>0.057659</td>\n",
       "    </tr>\n",
       "    <tr>\n",
       "      <th>82</th>\n",
       "      <td>BB-AURANGABAD-PROZONE MALL</td>\n",
       "      <td>0.058518</td>\n",
       "    </tr>\n",
       "    <tr>\n",
       "      <th>99</th>\n",
       "      <td>BB-THANE-HIGH STREET MALL</td>\n",
       "      <td>0.050253</td>\n",
       "    </tr>\n",
       "    <tr>\n",
       "      <th>201</th>\n",
       "      <td>BB-BENGALURU-SOUL SPACE SPIRIT</td>\n",
       "      <td>0.049779</td>\n",
       "    </tr>\n",
       "    <tr>\n",
       "      <th>236</th>\n",
       "      <td>BB-HYDERABAD-MAHESHWARI</td>\n",
       "      <td>0.059902</td>\n",
       "    </tr>\n",
       "    <tr>\n",
       "      <th>240</th>\n",
       "      <td>BB-HYDERABAD-ABIDS-MAHESHWARI</td>\n",
       "      <td>0.059350</td>\n",
       "    </tr>\n",
       "    <tr>\n",
       "      <th>241</th>\n",
       "      <td>BB-HYDERABAD-MADHAPUR</td>\n",
       "      <td>0.055350</td>\n",
       "    </tr>\n",
       "    <tr>\n",
       "      <th>244</th>\n",
       "      <td>BB-HYDERABAD-PUNJAGUTTA-HPERCI</td>\n",
       "      <td>0.036059</td>\n",
       "    </tr>\n",
       "    <tr>\n",
       "      <th>245</th>\n",
       "      <td>BB-HYDERABAD-PUNJIGUTTA</td>\n",
       "      <td>0.008439</td>\n",
       "    </tr>\n",
       "    <tr>\n",
       "      <th>262</th>\n",
       "      <td>BB-LATUR-BABASAHEB PARANJAPE M</td>\n",
       "      <td>0.056314</td>\n",
       "    </tr>\n",
       "  </tbody>\n",
       "</table>\n",
       "</div>"
      ],
      "text/plain": [
       "                              Store  Regular conversion\n",
       "32              BB-NAGPUR-LAND MARK            0.057659\n",
       "82       BB-AURANGABAD-PROZONE MALL            0.058518\n",
       "99        BB-THANE-HIGH STREET MALL            0.050253\n",
       "201  BB-BENGALURU-SOUL SPACE SPIRIT            0.049779\n",
       "236         BB-HYDERABAD-MAHESHWARI            0.059902\n",
       "240   BB-HYDERABAD-ABIDS-MAHESHWARI            0.059350\n",
       "241           BB-HYDERABAD-MADHAPUR            0.055350\n",
       "244  BB-HYDERABAD-PUNJAGUTTA-HPERCI            0.036059\n",
       "245         BB-HYDERABAD-PUNJIGUTTA            0.008439\n",
       "262  BB-LATUR-BABASAHEB PARANJAPE M            0.056314"
      ]
     },
     "execution_count": 39,
     "metadata": {},
     "output_type": "execute_result"
    }
   ],
   "source": [
    "low_regular=df.loc[df['Regular conversion']<0.06]\n",
    "low_regular[['Store', 'Regular conversion']].head(10)"
   ]
  },
  {
   "cell_type": "code",
   "execution_count": 43,
   "metadata": {},
   "outputs": [
    {
     "data": {
      "text/html": [
       "<div>\n",
       "<style scoped>\n",
       "    .dataframe tbody tr th:only-of-type {\n",
       "        vertical-align: middle;\n",
       "    }\n",
       "\n",
       "    .dataframe tbody tr th {\n",
       "        vertical-align: top;\n",
       "    }\n",
       "\n",
       "    .dataframe thead th {\n",
       "        text-align: right;\n",
       "    }\n",
       "</style>\n",
       "<table border=\"1\" class=\"dataframe\">\n",
       "  <thead>\n",
       "    <tr style=\"text-align: right;\">\n",
       "      <th></th>\n",
       "      <th>Store</th>\n",
       "      <th>Dormant conversion</th>\n",
       "    </tr>\n",
       "  </thead>\n",
       "  <tbody>\n",
       "    <tr>\n",
       "      <th>1</th>\n",
       "      <td>BB-GUWAHATI-CITY SQUARE</td>\n",
       "      <td>0.014954</td>\n",
       "    </tr>\n",
       "    <tr>\n",
       "      <th>14</th>\n",
       "      <td>BB-BHILAI-SURYA TREASURE ISLAN</td>\n",
       "      <td>0.014250</td>\n",
       "    </tr>\n",
       "    <tr>\n",
       "      <th>27</th>\n",
       "      <td>BB-RAJKOT-KALAWAD ROAD</td>\n",
       "      <td>0.014312</td>\n",
       "    </tr>\n",
       "    <tr>\n",
       "      <th>32</th>\n",
       "      <td>BB-NAGPUR-LAND MARK</td>\n",
       "      <td>0.009514</td>\n",
       "    </tr>\n",
       "    <tr>\n",
       "      <th>33</th>\n",
       "      <td>BB-NAGPUR-EMPRESS CITY</td>\n",
       "      <td>0.008529</td>\n",
       "    </tr>\n",
       "    <tr>\n",
       "      <th>34</th>\n",
       "      <td>BB-NAGPUR-VIPL IT PARK</td>\n",
       "      <td>0.010496</td>\n",
       "    </tr>\n",
       "    <tr>\n",
       "      <th>35</th>\n",
       "      <td>BB-NAGPUR-MANISH NAGAR</td>\n",
       "      <td>0.011999</td>\n",
       "    </tr>\n",
       "    <tr>\n",
       "      <th>82</th>\n",
       "      <td>BB-AURANGABAD-PROZONE MALL</td>\n",
       "      <td>0.011872</td>\n",
       "    </tr>\n",
       "    <tr>\n",
       "      <th>96</th>\n",
       "      <td>BB-NEW-MUMBAI-VASHI-RAGHULEELA</td>\n",
       "      <td>0.011141</td>\n",
       "    </tr>\n",
       "    <tr>\n",
       "      <th>97</th>\n",
       "      <td>BB-THANE-VIVA CITY MALL</td>\n",
       "      <td>0.013112</td>\n",
       "    </tr>\n",
       "  </tbody>\n",
       "</table>\n",
       "</div>"
      ],
      "text/plain": [
       "                             Store  Dormant conversion\n",
       "1          BB-GUWAHATI-CITY SQUARE            0.014954\n",
       "14  BB-BHILAI-SURYA TREASURE ISLAN            0.014250\n",
       "27          BB-RAJKOT-KALAWAD ROAD            0.014312\n",
       "32             BB-NAGPUR-LAND MARK            0.009514\n",
       "33          BB-NAGPUR-EMPRESS CITY            0.008529\n",
       "34          BB-NAGPUR-VIPL IT PARK            0.010496\n",
       "35          BB-NAGPUR-MANISH NAGAR            0.011999\n",
       "82      BB-AURANGABAD-PROZONE MALL            0.011872\n",
       "96  BB-NEW-MUMBAI-VASHI-RAGHULEELA            0.011141\n",
       "97         BB-THANE-VIVA CITY MALL            0.013112"
      ]
     },
     "execution_count": 43,
     "metadata": {},
     "output_type": "execute_result"
    }
   ],
   "source": [
    "low_dormant=df.loc[df['Dormant conversion']<0.015]\n",
    "low_dormant[['Store', 'Dormant conversion']].head(10)"
   ]
  },
  {
   "cell_type": "markdown",
   "metadata": {},
   "source": [
    "### exception stores\n",
    "- Darbhanga, Faizabad, Jorhat, Silchar, Koderma, Delhi Pacific Mall, Noida Gaur City saw better response from customers\n",
    "- Hyderabad stores have seen poorer response from their regular base\n",
    "- Guwahati, Rajkot, Bhilai, Thane saw poorer response from their dormant base\n",
    "- Nagpur, Aurangabad were impacted due to lockdowns"
   ]
  },
  {
   "cell_type": "markdown",
   "metadata": {},
   "source": [
    "## Other patterns across markets"
   ]
  },
  {
   "cell_type": "code",
   "execution_count": 45,
   "metadata": {},
   "outputs": [
    {
     "data": {
      "image/png": "[encoded data removed]",
      "text/plain": [
       "<Figure size 432x288 with 1 Axes>"
      ]
     },
     "metadata": {
      "needs_background": "light"
     },
     "output_type": "display_data"
    }
   ],
   "source": [
    "sns.barplot(x='Market', y='Regular conversion', data=df)\n",
    "plt.show()"
   ]
  },
  {
   "cell_type": "code",
   "execution_count": 46,
   "metadata": {},
   "outputs": [
    {
     "data": {
      "image/png": "[encoded data removed]",
      "text/plain": [
       "<Figure size 432x288 with 1 Axes>"
      ]
     },
     "metadata": {
      "needs_background": "light"
     },
     "output_type": "display_data"
    }
   ],
   "source": [
    "sns.barplot(x='Market', y='Dormant conversion', data=df)\n",
    "plt.show()"
   ]
  },
  {
   "cell_type": "code",
   "execution_count": 50,
   "metadata": {},
   "outputs": [
    {
     "data": {
      "image/png": "[encoded data removed]",
      "text/plain": [
       "<Figure size 432x288 with 1 Axes>"
      ]
     },
     "metadata": {
      "needs_background": "light"
     },
     "output_type": "display_data"
    },
    {
     "data": {
      "image/png": "[encoded data removed]",
      "text/plain": [
       "<Figure size 432x288 with 1 Axes>"
      ]
     },
     "metadata": {
      "needs_background": "light"
     },
     "output_type": "display_data"
    }
   ],
   "source": [
    "sns.barplot(x='Competition Index', y='Regular conversion', data=df)\n",
    "plt.show()\n",
    "sns.barplot(x='Competition Index', y='Dormant conversion', data=df)\n",
    "plt.show()"
   ]
  },
  {
   "cell_type": "code",
   "execution_count": 52,
   "metadata": {},
   "outputs": [
    {
     "data": {
      "image/png": "[encoded data removed]",
      "text/plain": [
       "<Figure size 432x288 with 1 Axes>"
      ]
     },
     "metadata": {
      "needs_background": "light"
     },
     "output_type": "display_data"
    },
    {
     "data": {
      "image/png": "[encoded data removed]",
      "text/plain": [
       "<Figure size 432x288 with 1 Axes>"
      ]
     },
     "metadata": {
      "needs_background": "light"
     },
     "output_type": "display_data"
    }
   ],
   "source": [
    "sns.barplot(x='D-Mart', y='Regular conversion', data=df)\n",
    "plt.show()\n",
    "sns.barplot(x='D-Mart', y='Dormant conversion', data=df)\n",
    "plt.show()"
   ]
  },
  {
   "cell_type": "markdown",
   "metadata": {},
   "source": [
    "## Inference\n",
    "- Small town stores have seen better response; metro stores have seen poorer response\n",
    "- Competitive markets have struggled to bring back customers\n",
    "- Lot of Dormant customers have shifted to D-Mart"
   ]
  }
 ],
 "metadata": {
  "kernelspec": {
   "display_name": "Python 3",
   "language": "python",
   "name": "python3"
  },
  "language_info": {
   "codemirror_mode": {
    "name": "ipython",
    "version": 3
   },
   "file_extension": ".py",
   "mimetype": "text/x-python",
   "name": "python",
   "nbconvert_exporter": "python",
   "pygments_lexer": "ipython3",
   "version": "3.8.3"
  }
 },
 "nbformat": 4,
 "nbformat_minor": 4
}
