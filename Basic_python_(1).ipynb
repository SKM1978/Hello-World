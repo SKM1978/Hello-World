{
  "nbformat": 4,
  "nbformat_minor": 0,
  "metadata": {
    "kernelspec": {
      "display_name": "Python 3",
      "language": "python",
      "name": "python3"
    },
    "language_info": {
      "codemirror_mode": {
        "name": "ipython",
        "version": 3
      },
      "file_extension": ".py",
      "mimetype": "text/x-python",
      "name": "python",
      "nbconvert_exporter": "python",
      "pygments_lexer": "ipython3",
      "version": "3.7.1"
    },
    "colab": {
      "name": "Basic python (1).ipynb",
      "provenance": [],
      "include_colab_link": true
    }
  },
  "cells": [
    {
      "cell_type": "markdown",
      "metadata": {
        "id": "view-in-github",
        "colab_type": "text"
      },
      "source": [
        "<a href=\"https://colab.research.google.com/github/SKM1978/Hello-World/blob/master/Basic_python_(1).ipynb\" target=\"_parent\"><img src=\"https://colab.research.google.com/assets/colab-badge.svg\" alt=\"Open In Colab\"/></a>"
      ]
    },
    {
      "cell_type": "markdown",
      "metadata": {
        "id": "MRK2UNODtKg4",
        "colab_type": "text"
      },
      "source": [
        "# Advanced Certification in AIML\n",
        "## A Program by Datafolkz\n",
        "### Introduction to Python\n",
        "\n",
        "# Intro to Jupyter Notebook \n",
        "\n",
        "- SHIFT + ENTER for EXECuting the CELL using Jupyter noteboook\n",
        "\n",
        "Shortcuts in both modes:\n",
        "- Shift + Enter run the current cell, select below\n",
        "- Ctrl + Enter run selected cells\n",
        "- Alt + Enter run the current cell, insert below\n",
        "- Ctrl + S save and checkpoint"
      ]
    },
    {
      "cell_type": "code",
      "metadata": {
        "id": "VpbrMaqotKg8",
        "colab_type": "code",
        "colab": {},
        "outputId": "7ddc8690-7d35-48c7-c613-25e335d74191"
      },
      "source": [
        "print('Hello World') # Printing the word Hello world"
      ],
      "execution_count": null,
      "outputs": [
        {
          "output_type": "stream",
          "text": [
            "Hello World\n"
          ],
          "name": "stdout"
        }
      ]
    },
    {
      "cell_type": "markdown",
      "metadata": {
        "id": "cD0ZIUMMtKhP",
        "colab_type": "raw"
      },
      "source": [
        "a=15\n",
        "a"
      ]
    },
    {
      "cell_type": "markdown",
      "metadata": {
        "id": "0MKwpZUatKhS",
        "colab_type": "text"
      },
      "source": [
        "- esc + m for code to markdown\n",
        " \n",
        "- esc + y for markdown to code "
      ]
    },
    {
      "cell_type": "markdown",
      "metadata": {
        "id": "F-ElFThJtKhU",
        "colab_type": "text"
      },
      "source": [
        "## Julia , Python and R can be done using JupyterR"
      ]
    },
    {
      "cell_type": "markdown",
      "metadata": {
        "id": "K6iTi-lctKhX",
        "colab_type": "text"
      },
      "source": [
        "About Python\n",
        "- Python is a scripting langugae\n",
        "- Its  case sensitive \n",
        "- Its object oriented language\n",
        "\n",
        "Python program is first compiled and then interpreted. The compilation part is hidden from the programmer thus, many programmers believe that it is an interpreted language. The compilation part is done first when we execute our code and this will generate byte code and internally this byte code gets converted by the python virtual machine(p.v.m) according to the underlying platform(machine+operating system).\n",
        "\n",
        "An interpreter translates high-level instructions into an intermediate form, which it then executes. In contrast, a compiler translates high-level instructions directly into machine language. Compiled programs generally run faster than interpreted programs. The advantage of an interpreter, however, is that it does not need to go through the compilation stage during which machine instructions are generated. This process can be time-consuming if the program is long. The interpreter, on the other hand, can immediately execute high-level program"
      ]
    },
    {
      "cell_type": "markdown",
      "metadata": {
        "id": "rhCQaRE5tKhZ",
        "colab_type": "text"
      },
      "source": [
        "## Lexical Structure\n",
        "\n",
        "The lexical structure of a programming language is the set of basic rules \n",
        "that govern how you write programs in that language.\n",
        "\n",
        "It is the lowest-level syntax of the language and specifies such things \n",
        "as what variable names look like and which characters denote comments. \n",
        "\n",
        "Each Python source file, like any other text file, is a sequence of characters. \n",
        "\n",
        "You can also usefully consider it as a sequence of lines, tokens, or statements. \n",
        "\n",
        "These different lexical views complement and reinforce each other. \n",
        "\n",
        "Python is very particular about program layout,especially with regard to lines and indentation, \n",
        "so you’ll want to pay attention to this information if you are coming to Python from another language."
      ]
    },
    {
      "cell_type": "markdown",
      "metadata": {
        "id": "NvvvYMFltKhb",
        "colab_type": "text"
      },
      "source": [
        "## Lines and Indentation\n",
        "•\tA Python program is composed of a sequence of logical lines, each made up of one or more physical lines. Each physical line may end with a comment. \n",
        "A hash sign (#) that is not inside a string literal begins a comment. \n",
        "\n",
        "•\tAll characters after the # and up to the physical line end are part of the comment, and the Python interpreter ignores them. \n",
        "\n",
        "•\tA line containing only whitespace, possibly with a comment, is known as a blank line, and Python totally ignores it. \n",
        "\n",
        "•\tIn an interactive interpreter session, you must enter an empty physical line (without any whitespace or comment) to terminate a multiline statement."
      ]
    },
    {
      "cell_type": "markdown",
      "metadata": {
        "id": "jhDairVVtKhi",
        "colab_type": "text"
      },
      "source": [
        "•\tHowever, Python automatically joins adjacent physical lines into one logical line if an open parenthesis ((), bracket ([), or brace ({) has not yet been closed, and taking advantage of this mechanism, generally produces more readable code instead of explicitly inserting backslashes at physical line ends.\n",
        "                                                                                                                                          \n",
        "•\tTriple-quoted string literals can also span physical lines. Physical lines after the first one in a logical line are known as continuation lines. \n"
      ]
    },
    {
      "cell_type": "markdown",
      "metadata": {
        "id": "FzkdxRN4tKhl",
        "colab_type": "text"
      },
      "source": [
        "## Indentation\n",
        "•\tThe indentation issues covered next do not apply to continuation lines but only to the first physical line of each logical line.\n",
        "\n",
        "•\tPython uses indentation to express the block structure of a program. Unlike other languages, Python does not use braces, or other begin/end delimiters, around blocks of statements; indentation is the only way to denote such blocks.\n",
        "\n",
        "•\tEach logical line in a Python program is indented by the whitespace on its left. A block is a contiguous sequence of logical lines, all indented by the same amount; a logical line with less indentation ends the block. \n",
        "\n",
        "•\tAll statements in a block must have the same indentation, as must all clauses in a compound statement.\n",
        "\n",
        "•\tThe first statement in a source file must have no indentation (i.e., must not begin with any whitespace).\n",
        "\n",
        "•\tStatements that you type at the interactive interpreter primary prompt >>> (covered in Interactive Sessions) must also have no indentation.\n"
      ]
    },
    {
      "cell_type": "markdown",
      "metadata": {
        "id": "VagjGIY_tKho",
        "colab_type": "text"
      },
      "source": [
        "## Tokens\n",
        "\n",
        "•\tPython breaks each logical line into a sequence of elementary lexical components known as tokens. Each token corresponds to a substring of the logical line. \n",
        "\n",
        "•\tThe normal token types are identifiers, keywords, operators, delimiters, and literals, as covered in the following sections.\n",
        "\n",
        "•\tYou may freely use whitespace between tokens to separate them. Some whitespace separation is necessary between logically adjacent identifiers or keywords; otherwise, Python would parse them as a single, longer identifier. \n",
        " For example, printx is a single identifier; to write the keyword print followed by the identifier x, you need to insert some whitespace (e.g., print x).\n"
      ]
    },
    {
      "cell_type": "code",
      "metadata": {
        "id": "LN0UKNe4tKhq",
        "colab_type": "code",
        "colab": {},
        "outputId": "23c3dacf-864d-4767-a680-5a415d2bb4b3"
      },
      "source": [
        "print(2)"
      ],
      "execution_count": null,
      "outputs": [
        {
          "output_type": "stream",
          "text": [
            "2\n"
          ],
          "name": "stdout"
        }
      ]
    },
    {
      "cell_type": "markdown",
      "metadata": {
        "id": "JU-61xcZtKh2",
        "colab_type": "text"
      },
      "source": [
        "## Identifiers\n",
        "\n",
        "•\tAn identifier is a name used to identify a variable, function, class, module, or other object. An identifier starts with a letter (A to Z or a to z) or an underscore (_) followed by zero or more letters, underscores, and digits (0 to 9).\n",
        "\n",
        "•\tCase is significant in Python: lowercase and uppercase letters are distinct. Python does not allow punctuation characters such as @, $, and % within identifiers.\n",
        "    \n",
        "•\tNormal Python style is to start class names with an uppercase letter and all other identifiers with a lowercase letter. \n",
        "\n",
        "•\tStarting an identifier with a single leading underscore indicates by convention that the identifier is meant to be private. \n",
        "\n",
        "•\tStarting an identifier with two leading underscores indicates a strongly private identifier; if the identifier also ends with two trailing underscores, the identifier is a language-defined special name. \n",
        "\n",
        "•\tThe identifier _ (a single underscore) is special in interactive interpreter sessions: the interpreter binds _ to the result of the last expression statement it has evaluated interactively, if any.\n"
      ]
    },
    {
      "cell_type": "markdown",
      "metadata": {
        "id": "gUFZjNQEtKh5",
        "colab_type": "text"
      },
      "source": [
        "## Keywords\n",
        "\n",
        "Keywords are the reserved words in Python.\n",
        "\n",
        "We cannot use a keyword as a variable name, function name or any other identifier. They are used to define the syntax and structure of the Python language.\n",
        "\n",
        "In Python, keywords are case sensitive.\n",
        "\n",
        "There are 33 keywords in Python 3.7. This number can vary slightly over the course of time.\n",
        "\n",
        "All the keywords except True, False and None are in lowercase and they must be written as they are. \n",
        "\n",
        "The list of all the keywords is given below.\n",
        "\n",
        "![image.png](attachment:image.png)\n",
        "\n",
        "\n",
        "\n"
      ]
    },
    {
      "cell_type": "code",
      "metadata": {
        "id": "zrNP3ziftKh7",
        "colab_type": "code",
        "colab": {},
        "outputId": "cb59a3a4-56d4-478a-9cb5-3e1f898148a6"
      },
      "source": [
        "#Get all keywords in python 3.7\n",
        "\n",
        "import keyword # import the library Keyword\n",
        "\n",
        "print(keyword.kwlist) \n",
        "\n",
        "\n",
        "print(\"Total number of keywords \", len(keyword.kwlist))"
      ],
      "execution_count": null,
      "outputs": [
        {
          "output_type": "stream",
          "text": [
            "['False', 'None', 'True', 'and', 'as', 'assert', 'async', 'await', 'break', 'class', 'continue', 'def', 'del', 'elif', 'else', 'except', 'finally', 'for', 'from', 'global', 'if', 'import', 'in', 'is', 'lambda', 'nonlocal', 'not', 'or', 'pass', 'raise', 'return', 'try', 'while', 'with', 'yield']\n",
            "Total number of keywords  35\n"
          ],
          "name": "stdout"
        }
      ]
    },
    {
      "cell_type": "code",
      "metadata": {
        "id": "DD8ZKprrtKiG",
        "colab_type": "code",
        "colab": {},
        "outputId": "81e1732c-b7e2-4d64-cbe0-7becc731372f"
      },
      "source": [
        "age = 35\n",
        "print(age)"
      ],
      "execution_count": null,
      "outputs": [
        {
          "output_type": "stream",
          "text": [
            "35\n"
          ],
          "name": "stdout"
        }
      ]
    },
    {
      "cell_type": "code",
      "metadata": {
        "id": "n5v_vKSGtKiT",
        "colab_type": "code",
        "colab": {},
        "outputId": "9ca65971-48f4-41f8-adf8-2b9096d5a9bd"
      },
      "source": [
        "Global = 45\n",
        "print(Global)"
      ],
      "execution_count": null,
      "outputs": [
        {
          "output_type": "stream",
          "text": [
            "45\n"
          ],
          "name": "stdout"
        }
      ]
    },
    {
      "cell_type": "markdown",
      "metadata": {
        "id": "vb32G__NtKij",
        "colab_type": "text"
      },
      "source": [
        "## Operators\n",
        "\n",
        "Python uses non alphanumeric characters and character combinations as operators. \n",
        "\n",
        "Python divides the operators in the following groups:\n",
        "    \n",
        "\n",
        "- Arithmetic operators\n",
        "- Assignment operators\n",
        "- Comparison operators\n",
        "- Logical operators\n",
        "- Identity operators\n",
        "- Membership operators\n",
        "- Bitwise operators\n",
        "\n"
      ]
    },
    {
      "cell_type": "markdown",
      "metadata": {
        "id": "TYqK0p80tKim",
        "colab_type": "text"
      },
      "source": [
        "## Delimiter\n",
        "- **Used for grouping, punctuations and assignments**\n",
        "- (), [], {}\n",
        "- , : . ' = ;\n",
        "- += -= *= /= //= %=\n",
        "- &= |= ^= >>= <<= **="
      ]
    },
    {
      "cell_type": "markdown",
      "metadata": {
        "id": "4OfPY3datKiq",
        "colab_type": "text"
      },
      "source": [
        "## Literals\n",
        "\n",
        "A literal is a number or string that appears directly in a program.\n",
        "\n",
        "The following are all literals in Python:\n",
        "    \n",
        "- Integer literal 42\n",
        "- Floating-point literal 3.14                       \n",
        "- Imaginary literal 1.0j                       \n",
        "- String literal  'hello'                    \n",
        "- Another string literal \"world\"                   \n",
        "- Triple-quoted string literal \"\"\"Good night\"\"\"           \n"
      ]
    },
    {
      "cell_type": "markdown",
      "metadata": {
        "id": "xex5GE3BtKis",
        "colab_type": "text"
      },
      "source": [
        "## Identifier/Variable\n",
        "\n",
        "Which stores a value\n",
        "\n",
        "- It is a sequence of characters that consists of letters, digits and  underscore\n",
        "- Can be of any length\n",
        "- Can starts with a letter which can be either lower or upper case\n",
        "- Can start with an underscore '_'\n",
        "- Can start with a digit\n",
        "- Cannot be a keyword."
      ]
    },
    {
      "cell_type": "markdown",
      "metadata": {
        "id": "BifiePfWtKiu",
        "colab_type": "text"
      },
      "source": [
        "# Why Statistics is required for Analytics?\n",
        "\n",
        "Without statistics, the interpretation of data can quickly become massively\n",
        "flawed. \n",
        "Take, for example, the estimated number of German tanks produced during\n",
        "World War II, also known as the “German Tank Problem.” The estimate of the\n",
        "number of German tanks produced per month from standard intelligence data was\n",
        "1,550; however, the statistical estimate based on the number of tanks observed\n",
        "was 327, which was very close to the actual production number of 342"
      ]
    },
    {
      "cell_type": "markdown",
      "metadata": {
        "id": "PJMWjMo-tKiw",
        "colab_type": "text"
      },
      "source": [
        "Similarly, using the wrong tests can also lead to erroneous results.\n",
        "\n",
        "In general, statistics will help to\n",
        "\n",
        "• Clarify the question.\n",
        "\n",
        "• Identify the variable and the measure of that variable that will answer that\n",
        "question.\n",
        "\n",
        "• Determine the required sample size.\n",
        "\n",
        "• Describe variation.\n",
        "\n",
        "• Make quantitative statements about estimated parameters.\n",
        "\n",
        "• Make predictions based on your data."
      ]
    },
    {
      "cell_type": "code",
      "metadata": {
        "id": "Q6CUk4EptKiy",
        "colab_type": "code",
        "colab": {},
        "outputId": "b29cb1df-c90c-45a4-d802-d57da58bc5c3"
      },
      "source": [
        "a1 = 10\n",
        "print(a1)\n",
        "a1"
      ],
      "execution_count": null,
      "outputs": [
        {
          "output_type": "stream",
          "text": [
            "10\n"
          ],
          "name": "stdout"
        },
        {
          "output_type": "execute_result",
          "data": {
            "text/plain": [
              "10"
            ]
          },
          "metadata": {
            "tags": []
          },
          "execution_count": 8
        }
      ]
    },
    {
      "cell_type": "markdown",
      "metadata": {
        "id": "wd4Dn_KLtKi-",
        "colab_type": "text"
      },
      "source": [
        "## Scalar Data Types and Operations\n",
        "\n",
        "Python has four scalar data types:\n",
        "\n",
        "- Integer\n",
        "- Float\n",
        "- Boolean\n",
        "- Complex\n",
        "\n",
        "We will review these in this notebook"
      ]
    },
    {
      "cell_type": "markdown",
      "metadata": {
        "id": "jSLIB9A6tKi_",
        "colab_type": "text"
      },
      "source": [
        "## Integers\n",
        "\n",
        "The usual arithmetic operators are available: + for addition, - for subtraction and * for multiplication."
      ]
    },
    {
      "cell_type": "code",
      "metadata": {
        "id": "vSHJnQUPtKjB",
        "colab_type": "code",
        "colab": {},
        "outputId": "58c5d734-ceaa-4b4e-cde0-3936b331aa6e"
      },
      "source": [
        "print(2 + 4)\n",
        "print(12878 + 1)\n",
        "print(7 - 3)\n",
        "print(127 - 128)\n",
        "print(8 * 6)\n",
        "print(17 * 12)"
      ],
      "execution_count": null,
      "outputs": [
        {
          "output_type": "stream",
          "text": [
            "6\n",
            "12879\n",
            "4\n",
            "-1\n",
            "48\n",
            "204\n"
          ],
          "name": "stdout"
        }
      ]
    },
    {
      "cell_type": "markdown",
      "metadata": {
        "id": "N9bUmj20tKjL",
        "colab_type": "text"
      },
      "source": [
        "There are two division operators:\n",
        "    / for everyday (float) division and // for truncating (integer) division"
      ]
    },
    {
      "cell_type": "code",
      "metadata": {
        "id": "vH_WES-xtKjM",
        "colab_type": "code",
        "colab": {},
        "outputId": "109d05da-6472-4617-c0f6-e106a1a358d3"
      },
      "source": [
        "print(17 / 4)\n",
        "print(17 // 4)"
      ],
      "execution_count": null,
      "outputs": [
        {
          "output_type": "stream",
          "text": [
            "4.25\n",
            "4\n"
          ],
          "name": "stdout"
        }
      ]
    },
    {
      "cell_type": "markdown",
      "metadata": {
        "id": "4MPpb1GQtKjZ",
        "colab_type": "text"
      },
      "source": [
        "The modulo operator % and the exponentiation operator ** are also available."
      ]
    },
    {
      "cell_type": "code",
      "metadata": {
        "id": "DRXtBx_ntKja",
        "colab_type": "code",
        "colab": {},
        "outputId": "7e23d4b7-8b5a-45d0-8d0b-b23239ad9ca4"
      },
      "source": [
        "print(18 % 3)\n",
        "print(72 % 5)\n",
        "print(2 ** 5)"
      ],
      "execution_count": null,
      "outputs": [
        {
          "output_type": "stream",
          "text": [
            "0\n",
            "2\n",
            "32\n"
          ],
          "name": "stdout"
        }
      ]
    },
    {
      "cell_type": "markdown",
      "metadata": {
        "id": "zeb6QtDstKjl",
        "colab_type": "text"
      },
      "source": [
        "The usual operator precedence rules and use of parentheses to override that are available"
      ]
    },
    {
      "cell_type": "code",
      "metadata": {
        "id": "WKsM7Q5otKjm",
        "colab_type": "code",
        "colab": {},
        "outputId": "98ad86ae-158f-41cf-b7d9-b58e66f3e2d1"
      },
      "source": [
        "print(10 ** 2 * 7 - 3)\n",
        "print(10 ** (2 * 7) - 3)\n",
        "print(10 ** (2 * 7 - 3))"
      ],
      "execution_count": null,
      "outputs": [
        {
          "output_type": "stream",
          "text": [
            "697\n",
            "99999999999997\n",
            "100000000000\n"
          ],
          "name": "stdout"
        }
      ]
    },
    {
      "cell_type": "code",
      "metadata": {
        "id": "8UbxmyzvtKjs",
        "colab_type": "code",
        "colab": {},
        "outputId": "a7478859-47c2-45db-f5f6-d707b96dcb38"
      },
      "source": [
        "a = 123456789 \n",
        "b = a ** 2\n",
        "c = b ** 3\n",
        "d = c ** 4\n",
        "e = d ** 5\n",
        "print(e)"
      ],
      "execution_count": null,
      "outputs": [
        {
          "output_type": "stream",
          "text": [
            "95895286347222034791086605662811969785387106853901346544483953642680116799305429392916328044803964544906412568173586838975389693889466931724787382602209026851413718672992500945459050967973754074446682840115185173491232894943036718270805266686475439556591818306146142541531042457606878440869168972012200929781450791973866289435058898863980805449821148199924662026572772426330363272818353600292677639914650163602402387046082945396504228157351617787966026866638977428336270761039733807499229574152744708406709999198108421875593674670017724918532931998179661679487371607921869488779614480174654183050554148246295513430972687654798140382162446340357982348270186444388129720941541158390538541492685710752623852622720768334430468852097226917149171660953626254466986940765253382358001339174903296347169720023617297994349779160697050425373047121064748421434125128308764115407012030949147264066116731171517339637266846118243586757670417982965125332116703787163047835949441767799201\n"
          ],
          "name": "stdout"
        }
      ]
    },
    {
      "cell_type": "markdown",
      "metadata": {
        "id": "fROyN49mtKjz",
        "colab_type": "text"
      },
      "source": [
        "##### Assignment operators\n",
        "The standard assignment operators are available. That is,  $\\alpha$  $\\odot=\\beta$ is a shorthand for $\\alpha = \\alpha \\odot \\beta$\n",
        "where $\\odot$ is any binary arithmetic operator we saw above"
      ]
    },
    {
      "cell_type": "code",
      "metadata": {
        "id": "iQYkgZeEtKj0",
        "colab_type": "code",
        "colab": {},
        "outputId": "f8246ab4-99a4-421d-d168-de5046d14b3e"
      },
      "source": [
        "a = 12\n",
        "b = 5\n",
        "a += b\n",
        "print(a, b)\n",
        "a -= b\n",
        "print(a, b)\n",
        "a *= b\n",
        "print(a, b)\n",
        "a **=b\n",
        "print(a,b)"
      ],
      "execution_count": null,
      "outputs": [
        {
          "output_type": "stream",
          "text": [
            "17 5\n",
            "12 5\n",
            "60 5\n",
            "777600000 5\n"
          ],
          "name": "stdout"
        }
      ]
    },
    {
      "cell_type": "markdown",
      "metadata": {
        "id": "Enm0sSBytKj6",
        "colab_type": "text"
      },
      "source": [
        "#### Boolean\n",
        "The two constants True and False are defined.\n",
        "\n",
        "The usual boolean operators are also available: ==, !=, >, >=, <, <= "
      ]
    },
    {
      "cell_type": "code",
      "metadata": {
        "id": "FEtIqdo-tKj7",
        "colab_type": "code",
        "colab": {},
        "outputId": "08816673-35f8-44f1-a967-0910a94edaed"
      },
      "source": [
        "a = 12\n",
        "b = 13\n",
        "print(a == b - 1,a == b, a != b, a < b, a >= b)"
      ],
      "execution_count": null,
      "outputs": [
        {
          "output_type": "stream",
          "text": [
            "True False True True False\n"
          ],
          "name": "stdout"
        }
      ]
    },
    {
      "cell_type": "markdown",
      "metadata": {
        "id": "jB7z2zYftKkB",
        "colab_type": "text"
      },
      "source": [
        "#### Float\n",
        "Python has a float datatype (and it is the same as C's double!) and the above operations are available"
      ]
    },
    {
      "cell_type": "code",
      "metadata": {
        "id": "Ed1jmZaMtKkC",
        "colab_type": "code",
        "colab": {},
        "outputId": "dc594a32-b39a-4eba-b37d-7177fb65a764"
      },
      "source": [
        "a = 12.9\n",
        "b = 3.6\n",
        "c = a + b\n",
        "d = a - b\n",
        "e = a * b #Watch out for the round off error!\n",
        "f = a / b\n",
        "print(a, b, c, d, e, f, sep=\"\\n\")\n",
        "print(a, b, c, d, e, f)"
      ],
      "execution_count": null,
      "outputs": [
        {
          "output_type": "stream",
          "text": [
            "12.9\n",
            "3.6\n",
            "16.5\n",
            "9.3\n",
            "46.440000000000005\n",
            "3.5833333333333335\n",
            "12.9 3.6 16.5 9.3 46.440000000000005 3.5833333333333335\n"
          ],
          "name": "stdout"
        }
      ]
    },
    {
      "cell_type": "markdown",
      "metadata": {
        "id": "sSuGwFnStKkJ",
        "colab_type": "text"
      },
      "source": [
        "## Complex\n",
        "\n",
        "Complex numbers are built-in"
      ]
    },
    {
      "cell_type": "code",
      "metadata": {
        "id": "0RxDzE_XtKkK",
        "colab_type": "code",
        "colab": {},
        "outputId": "269fe761-71d3-4b68-e249-a592c8f4252f"
      },
      "source": [
        "z = 3 - 4j\n",
        "print(z, z.real, z.imag, abs(z), sep=\"\\n\")"
      ],
      "execution_count": null,
      "outputs": [
        {
          "output_type": "stream",
          "text": [
            "(3-4j)\n",
            "3.0\n",
            "-4.0\n",
            "5.0\n"
          ],
          "name": "stdout"
        }
      ]
    },
    {
      "cell_type": "code",
      "metadata": {
        "id": "6i-LkvBstKkP",
        "colab_type": "code",
        "colab": {}
      },
      "source": [
        "x = 5 + 12j"
      ],
      "execution_count": null,
      "outputs": []
    },
    {
      "cell_type": "code",
      "metadata": {
        "id": "Zwap_3oHtKkX",
        "colab_type": "code",
        "colab": {},
        "outputId": "5828c241-394d-45be-9869-bda006d7ad28"
      },
      "source": [
        "print(z + x, z - x, z * x, x / z, sep=\"\\n\")"
      ],
      "execution_count": null,
      "outputs": [
        {
          "output_type": "stream",
          "text": [
            "(8+8j)\n",
            "(-2-16j)\n",
            "(63+16j)\n",
            "(-1.32+2.24j)\n"
          ],
          "name": "stdout"
        }
      ]
    },
    {
      "cell_type": "markdown",
      "metadata": {
        "id": "jOeMfVNZtKkc",
        "colab_type": "text"
      },
      "source": [
        "## Variables in Python\n",
        "\n",
        "Variables are used to store data, they take memory space based on the type of value we assigning to them. Creating variables in Python is simple, you just have write the variable name on the left side of = and the value on the right side, as shown below. \n",
        "You do not have to explicitly mention the type of the variable, python infer the type based on the value we are assigning.\n",
        "\n",
        "\n",
        "\n"
      ]
    },
    {
      "cell_type": "markdown",
      "metadata": {
        "id": "DmUtHToHtKkd",
        "colab_type": "text"
      },
      "source": [
        "## Variable name – Identifiers\n",
        "\n",
        "Variable name is known as identifier. \n",
        "There are few rules that you have to follow while naming the variables in Python.\n",
        "\n",
        "- The name of the variable must always start with either a letter or an underscore (_). For example:  _str, str, num, _num are all valid name for the variables.\n",
        "- The name of the variable cannot start with a number. For example: 9num is not a valid variable name.\n",
        "- The name of the variable cannot have special characters such as %, $, # etc, they can only have alphanumeric characters and underscore (A to Z, a to z, 0-9 or _ ).\n",
        "- Variable name is case sensitive in Python which means num and NUM are two different variables in python."
      ]
    },
    {
      "cell_type": "code",
      "metadata": {
        "id": "V5yIMFSBtKkd",
        "colab_type": "code",
        "colab": {},
        "outputId": "96aafe90-8f61-4731-8c08-ac2a02abd528"
      },
      "source": [
        "#Python Variable Example\n",
        "age = 35\n",
        "Name = 'Aravind'\n",
        "print(age)\n",
        "print(Name)\n",
        "32"
      ],
      "execution_count": null,
      "outputs": [
        {
          "output_type": "stream",
          "text": [
            "35\n",
            "Aravind\n"
          ],
          "name": "stdout"
        },
        {
          "output_type": "execute_result",
          "data": {
            "text/plain": [
              "32"
            ]
          },
          "metadata": {
            "tags": []
          },
          "execution_count": 19
        }
      ]
    },
    {
      "cell_type": "code",
      "metadata": {
        "id": "7g3o4il5tKkk",
        "colab_type": "code",
        "colab": {}
      },
      "source": [
        "# first position of the variable can be underscore\n",
        "_age = 35"
      ],
      "execution_count": null,
      "outputs": []
    },
    {
      "cell_type": "code",
      "metadata": {
        "id": "i5cWHRSStKkp",
        "colab_type": "code",
        "colab": {},
        "outputId": "546f7f30-d151-49eb-dd87-36452d04e7c6"
      },
      "source": [
        "# First position of the variable can not be a number\n",
        "9age = 92"
      ],
      "execution_count": null,
      "outputs": [
        {
          "output_type": "error",
          "ename": "SyntaxError",
          "evalue": "invalid syntax (<ipython-input-18-11927397c5c4>, line 2)",
          "traceback": [
            "\u001b[1;36m  File \u001b[1;32m\"<ipython-input-18-11927397c5c4>\"\u001b[1;36m, line \u001b[1;32m2\u001b[0m\n\u001b[1;33m    9age = 92\u001b[0m\n\u001b[1;37m       ^\u001b[0m\n\u001b[1;31mSyntaxError\u001b[0m\u001b[1;31m:\u001b[0m invalid syntax\n"
          ]
        }
      ]
    },
    {
      "cell_type": "code",
      "metadata": {
        "id": "r9OLPYiatKkv",
        "colab_type": "code",
        "colab": {},
        "outputId": "407de10f-5145-4f16-d2a0-02e9d5df228e"
      },
      "source": [
        "# Multiple assignement\n",
        "x,y,z = 2,7, 'cat'\n",
        "print(x)\n",
        "print(y)\n",
        "print(z)"
      ],
      "execution_count": null,
      "outputs": [
        {
          "output_type": "stream",
          "text": [
            "2\n",
            "7\n",
            "cat\n"
          ],
          "name": "stdout"
        }
      ]
    },
    {
      "cell_type": "markdown",
      "metadata": {
        "id": "epmBe_3vtKk1",
        "colab_type": "text"
      },
      "source": [
        "# Data Types\n",
        "\n",
        "A data type defines the type of data, for example 650 is an integer data while “Aravind” is a String type of data. \n",
        "The data types in Python are divided in two categories:\n",
        "1. Immutable data types – Values cannot be changed.\n",
        "2. Mutable data types – Values can be changed\n",
        "\n",
        "Immutable data types in Python are:\n",
        "1. Numbers\n",
        "2. String\n",
        "3. Tuple\n",
        "\n",
        "Mutable data types in Python are:\n",
        "1. List\n",
        "2. Dictionaries\n",
        "3. Sets"
      ]
    },
    {
      "cell_type": "markdown",
      "metadata": {
        "id": "Lq4L5by0tKk2",
        "colab_type": "text"
      },
      "source": [
        "## 1.Numeric Data Type in Python\n",
        "\n",
        "#### Integer  \n",
        "In Python 3, there is no upper bound on the integer number which means we can have the value as large as our system memory allows."
      ]
    },
    {
      "cell_type": "code",
      "metadata": {
        "id": "aFycLimKtKk3",
        "colab_type": "code",
        "colab": {},
        "outputId": "9b64229c-85e6-4778-fe1b-d0968fdf6c68"
      },
      "source": [
        "num = 120\n",
        "print(num)\n",
        "print(\"Data Type of variable num is\", type(num))"
      ],
      "execution_count": null,
      "outputs": [
        {
          "output_type": "stream",
          "text": [
            "120\n",
            "Data Type of variable num is <class 'int'>\n"
          ],
          "name": "stdout"
        }
      ]
    },
    {
      "cell_type": "markdown",
      "metadata": {
        "id": "pOuwwCpEtKk-",
        "colab_type": "text"
      },
      "source": [
        "#### Float \n",
        "Values with decimal points are the float values, there is no need to specify the data type in Python. It is automatically inferred based on the value we are assigning to a variable. \n",
        "For example here float_num is a float data type."
      ]
    },
    {
      "cell_type": "code",
      "metadata": {
        "id": "26swBhKetKlA",
        "colab_type": "code",
        "colab": {},
        "outputId": "c949c699-da25-41e5-a9d4-5ff6103c13de"
      },
      "source": [
        "float_num = 28.56\n",
        "print(float_num)\n",
        "print(\"Data Type of variable fnum is\", type(float_num))"
      ],
      "execution_count": null,
      "outputs": [
        {
          "output_type": "stream",
          "text": [
            "28.56\n",
            "Data Type of variable fnum is <class 'float'>\n"
          ],
          "name": "stdout"
        }
      ]
    },
    {
      "cell_type": "markdown",
      "metadata": {
        "id": "QXjpKhwgtKlG",
        "colab_type": "text"
      },
      "source": [
        "#### Complex Number \n",
        "Numbers with real and imaginary parts are known as complex numbers. \n",
        "Unlike other programming language such as Java, Python is able to identify these complex numbers with the values. In the following example when we print the type of the variable complex_num, it prints as complex number."
      ]
    },
    {
      "cell_type": "code",
      "metadata": {
        "id": "9EZ684yntKlH",
        "colab_type": "code",
        "colab": {},
        "outputId": "46fd880d-078a-46ce-e740-9c486817f1d8"
      },
      "source": [
        "# complex number\n",
        "complex_num = 3 + 4j\n",
        "print(complex_num)\n",
        "print(\"Data Type of variable complex_num is\", type(complex_num))"
      ],
      "execution_count": null,
      "outputs": [
        {
          "output_type": "stream",
          "text": [
            "(3+4j)\n",
            "Data Type of variable complex_num is <class 'complex'>\n"
          ],
          "name": "stdout"
        }
      ]
    },
    {
      "cell_type": "markdown",
      "metadata": {
        "id": "CAFKwujXtKlN",
        "colab_type": "text"
      },
      "source": [
        "# 2. Python Data Type – String\n",
        "String is a sequence of characters in Python. The data type of String in Python is called “str”.\n",
        "\n",
        "Python strings can be enlosed in single quotes or double quotes or triple quotes! Let us look at each of them "
      ]
    },
    {
      "cell_type": "code",
      "metadata": {
        "id": "-o6md-_otKlO",
        "colab_type": "code",
        "colab": {},
        "outputId": "7e3bf35e-f3c3-4ba4-f53a-ef843cf9bfca"
      },
      "source": [
        "S1 = ' S1 is a string'\n",
        "print(S1)\n",
        "type(S1)"
      ],
      "execution_count": null,
      "outputs": [
        {
          "output_type": "stream",
          "text": [
            " S1 is a string\n"
          ],
          "name": "stdout"
        },
        {
          "output_type": "execute_result",
          "data": {
            "text/plain": [
              "str"
            ]
          },
          "metadata": {
            "tags": []
          },
          "execution_count": 37
        }
      ]
    },
    {
      "cell_type": "code",
      "metadata": {
        "id": "LkVYL_zLtKlW",
        "colab_type": "code",
        "colab": {},
        "outputId": "7100c97f-d0c8-43f1-a42d-cb1e57201f1d"
      },
      "source": [
        "grading = \"Tests, Quizzes, Individual Labs, Group Labs and Hackathons\"\n",
        "print(grading)\n",
        "type(grading)"
      ],
      "execution_count": null,
      "outputs": [
        {
          "output_type": "stream",
          "text": [
            "Tests, Quizzes, Individual Labs, Group Labs and Hackathons\n"
          ],
          "name": "stdout"
        },
        {
          "output_type": "execute_result",
          "data": {
            "text/plain": [
              "str"
            ]
          },
          "metadata": {
            "tags": []
          },
          "execution_count": 34
        }
      ]
    },
    {
      "cell_type": "code",
      "metadata": {
        "id": "mGsYW5SAtKlf",
        "colab_type": "code",
        "colab": {},
        "outputId": "e3dbeb5b-4800-40c4-96fc-9d84f2116ad6"
      },
      "source": [
        "tests = \"CFU's, Analytical, References and Comprehension\"\n",
        "print(tests)"
      ],
      "execution_count": null,
      "outputs": [
        {
          "output_type": "stream",
          "text": [
            "CFU's, Analytical, References and Comprehension\n"
          ],
          "name": "stdout"
        }
      ]
    },
    {
      "cell_type": "markdown",
      "metadata": {
        "id": "SG8E9VNstKll",
        "colab_type": "text"
      },
      "source": [
        "Note how in the string *tests* the single quote is accepted as part of the string without any special escpae mechanism. Similarly we can create and use strings with double quotes inside by enclosing the whole string in single quotes. Here is an example."
      ]
    },
    {
      "cell_type": "code",
      "metadata": {
        "id": "_mgeg4ZQtKlm",
        "colab_type": "code",
        "colab": {},
        "outputId": "39816d27-a51b-47c5-dc17-2aa46bebb554"
      },
      "source": [
        "faq = 'Almost all ask the question \"What is the best k?\" when doing kNN'\n",
        "print(faq)"
      ],
      "execution_count": null,
      "outputs": [
        {
          "output_type": "stream",
          "text": [
            "Almost all ask the question \"What is the best k?\" when doing kNN\n"
          ],
          "name": "stdout"
        }
      ]
    },
    {
      "cell_type": "markdown",
      "metadata": {
        "id": "YeVKXHR9tKlr",
        "colab_type": "text"
      },
      "source": [
        "Triple quoted strings are best used for documentation. But they are useful for storing long strings.\n",
        " * We can use single or double quotes\n",
        " * We can also use single quotes or dowuble quotes within\n",
        " * The line breaks etc are captured; that is there is no need for \\n"
      ]
    },
    {
      "cell_type": "code",
      "metadata": {
        "id": "8kRrwTnXtKls",
        "colab_type": "code",
        "colab": {},
        "outputId": "96b02f18-e4ba-4f0a-a6a5-e729c3f1e793"
      },
      "source": [
        "story = \"\"\"A long time ago, in a galaxy far far away ...\n",
        "\n",
        "It is a period of civil war. Rebel spaceships, striking \n",
        "from a hidden base, have won their first victory against \n",
        "the evil Galactic Empire.\n",
        "\n",
        "During the battle, Rebel spies managed to steal secret \n",
        "plans to the Empire's ultimate weapon, the DEATH STAR, \n",
        "an armored space station with enough power to destroy an entire planet.\n",
        "\n",
        "Pursued by the Empire's sinister agents, Princess Leia \n",
        "races home aboard her starship, custodian of the stolen \n",
        "plans that can save her people and restore freedom to the galaxy....\"\"\"\n",
        "print(story)"
      ],
      "execution_count": null,
      "outputs": [
        {
          "output_type": "stream",
          "text": [
            "A long time ago, in a galaxy far far away ...\n",
            "\n",
            "It is a period of civil war. Rebel spaceships, striking \n",
            "from a hidden base, have won their first victory against \n",
            "the evil Galactic Empire.\n",
            "\n",
            "During the battle, Rebel spies managed to steal secret \n",
            "plans to the Empire's ultimate weapon, the DEATH STAR, \n",
            "an armored space station with enough power to destroy an entire planet.\n",
            "\n",
            "Pursued by the Empire's sinister agents, Princess Leia \n",
            "races home aboard her starship, custodian of the stolen \n",
            "plans that can save her people and restore freedom to the galaxy....\n"
          ],
          "name": "stdout"
        }
      ]
    },
    {
      "cell_type": "markdown",
      "metadata": {
        "id": "S-cbIw3ZtKlz",
        "colab_type": "text"
      },
      "source": [
        "##### Simple string operations\n",
        " * Concatnate by +, \n",
        " * multiple concatenation by * \n",
        " * check for substring with **in**\n",
        " * determine the size (number of characters) using *len*"
      ]
    },
    {
      "cell_type": "code",
      "metadata": {
        "id": "vEQWDkhotKl0",
        "colab_type": "code",
        "colab": {},
        "outputId": "e7d8b07d-e7c5-487f-9b74-418429965719"
      },
      "source": [
        "h = \"Hello\"\n",
        "w = \"world!\"\n",
        "hw = h + w\n",
        "print(hw)\n",
        "hsw = h + ' ' + w\n",
        "print(hsw)\n",
        "h4s3w2 = 4 * h + \" \" * 3 + w * 2\n",
        "print(h4s3w2)\n",
        "print(h in hsw)\n",
        "print(' ' in hw)\n",
        "print(len(h4s3w2))"
      ],
      "execution_count": null,
      "outputs": [
        {
          "output_type": "stream",
          "text": [
            "Helloworld!\n",
            "Hello world!\n",
            "HelloHelloHelloHello   world!world!\n",
            "True\n",
            "False\n",
            "35\n"
          ],
          "name": "stdout"
        }
      ]
    },
    {
      "cell_type": "markdown",
      "metadata": {
        "id": "PCtXW4SXtKl6",
        "colab_type": "text"
      },
      "source": [
        "## 3. Python Data Type – Tuple\n",
        "\n",
        "Tuple is immutable data type in Python which means it cannot be changed. It is an ordered collection of elements enclosed in round brackets and separated by commas."
      ]
    },
    {
      "cell_type": "markdown",
      "metadata": {
        "id": "VqabQRZGtKl7",
        "colab_type": "text"
      },
      "source": [
        "- Collection of elements with different data types`\n",
        "- Tuple is an ordered sequence of items same as list.`\n",
        "- The only difference is that tuples are immutable. Tuples once created cannot be modified.`\n",
        "- Tuples are just like lists, but you cannot modify their values. The initial values are the value"
      ]
    },
    {
      "cell_type": "markdown",
      "metadata": {
        "id": "Q5Pg-VdetKl8",
        "colab_type": "text"
      },
      "source": [
        "- The easiest way to create one is with a comma-separated sequence of values created by `( )` and `tuple( )`\n",
        "- The easiest way to create one is with a comma-separated sequence of values."
      ]
    },
    {
      "cell_type": "code",
      "metadata": {
        "id": "omsa-GoQtKl9",
        "colab_type": "code",
        "colab": {},
        "outputId": "78d81198-9521-49b7-97b5-7766e6dce188"
      },
      "source": [
        "# Using comma-separated sequence of values\n",
        "tup = 10 ,20 ,30,40,50,\"Datafolkz\"\n",
        "tup"
      ],
      "execution_count": null,
      "outputs": [
        {
          "output_type": "execute_result",
          "data": {
            "text/plain": [
              "(10, 20, 30, 40, 50, 'Datafolkz')"
            ]
          },
          "metadata": {
            "tags": []
          },
          "execution_count": 1
        }
      ]
    },
    {
      "cell_type": "code",
      "metadata": {
        "id": "ziiQpR5PtKmE",
        "colab_type": "code",
        "colab": {},
        "outputId": "f541014a-d509-4951-f2d5-0b7d13d4661c"
      },
      "source": [
        "# tuple of integers\n",
        "t1 = (10, 2, 32, 42, 57)\n",
        "# prints entire tuple\n",
        "print(t1)\n",
        "\n",
        "# tuple of strings\n",
        "t2 = (\"Hey\", \"Anjali\", \"Goodbye\")\n",
        "print(t2)\n",
        "\n",
        "# tuple of mixed type elements\n",
        "t3 = (22, \"Sarah\", 456, \"Milly\")\n",
        "print(t3)\n"
      ],
      "execution_count": null,
      "outputs": [
        {
          "output_type": "stream",
          "text": [
            "(10, 2, 32, 42, 57)\n",
            "('Hey', 'Anjali', 'Goodbye')\n",
            "(22, 'Sarah', 456, 'Milly')\n"
          ],
          "name": "stdout"
        }
      ]
    },
    {
      "cell_type": "code",
      "metadata": {
        "id": "wLZKeGp2tKmK",
        "colab_type": "code",
        "colab": {},
        "outputId": "d834d2af-5828-466b-8180-0b313270e7c7"
      },
      "source": [
        "type(t1)"
      ],
      "execution_count": null,
      "outputs": [
        {
          "output_type": "execute_result",
          "data": {
            "text/plain": [
              "tuple"
            ]
          },
          "metadata": {
            "tags": []
          },
          "execution_count": 49
        }
      ]
    },
    {
      "cell_type": "code",
      "metadata": {
        "id": "-sxjCM35tKme",
        "colab_type": "code",
        "colab": {},
        "outputId": "836b27bb-35d5-40ad-935a-65b2bd72cb5a"
      },
      "source": [
        "# Why the strings are not immutable\n",
        "name = \"Aravind\"\n",
        "len(name)\n",
        "name[2] # Indexing the  element in second position\n",
        "name[2] = \"P\"\n"
      ],
      "execution_count": null,
      "outputs": [
        {
          "output_type": "error",
          "ename": "TypeError",
          "evalue": "'str' object does not support item assignment",
          "traceback": [
            "\u001b[1;31m---------------------------------------------------------------------------\u001b[0m",
            "\u001b[1;31mTypeError\u001b[0m                                 Traceback (most recent call last)",
            "\u001b[1;32m<ipython-input-59-350edc49576f>\u001b[0m in \u001b[0;36m<module>\u001b[1;34m\u001b[0m\n\u001b[0;32m      3\u001b[0m \u001b[0mlen\u001b[0m\u001b[1;33m(\u001b[0m\u001b[0mname\u001b[0m\u001b[1;33m)\u001b[0m\u001b[1;33m\u001b[0m\u001b[1;33m\u001b[0m\u001b[0m\n\u001b[0;32m      4\u001b[0m \u001b[0mname\u001b[0m\u001b[1;33m[\u001b[0m\u001b[1;36m2\u001b[0m\u001b[1;33m]\u001b[0m \u001b[1;31m# Indexing the  element in second position\u001b[0m\u001b[1;33m\u001b[0m\u001b[1;33m\u001b[0m\u001b[0m\n\u001b[1;32m----> 5\u001b[1;33m \u001b[0mname\u001b[0m\u001b[1;33m[\u001b[0m\u001b[1;36m2\u001b[0m\u001b[1;33m]\u001b[0m \u001b[1;33m=\u001b[0m \u001b[1;34m\"P\"\u001b[0m\u001b[1;33m\u001b[0m\u001b[1;33m\u001b[0m\u001b[0m\n\u001b[0m",
            "\u001b[1;31mTypeError\u001b[0m: 'str' object does not support item assignment"
          ]
        }
      ]
    },
    {
      "cell_type": "code",
      "metadata": {
        "id": "R0mRN6FTtKmk",
        "colab_type": "code",
        "colab": {},
        "outputId": "b27af039-de93-4c0e-eb55-9d030979b1d4"
      },
      "source": [
        "# Why the tuples are immutable?\n",
        "t1 = (10, 2, 32, 42, 57)\n",
        "t1[3]\n",
        "t1[3] = 47"
      ],
      "execution_count": null,
      "outputs": [
        {
          "output_type": "error",
          "ename": "TypeError",
          "evalue": "'tuple' object does not support item assignment",
          "traceback": [
            "\u001b[1;31m---------------------------------------------------------------------------\u001b[0m",
            "\u001b[1;31mTypeError\u001b[0m                                 Traceback (most recent call last)",
            "\u001b[1;32m<ipython-input-58-14870840c7b6>\u001b[0m in \u001b[0;36m<module>\u001b[1;34m\u001b[0m\n\u001b[0;32m      1\u001b[0m \u001b[0mt1\u001b[0m \u001b[1;33m=\u001b[0m \u001b[1;33m(\u001b[0m\u001b[1;36m10\u001b[0m\u001b[1;33m,\u001b[0m \u001b[1;36m2\u001b[0m\u001b[1;33m,\u001b[0m \u001b[1;36m32\u001b[0m\u001b[1;33m,\u001b[0m \u001b[1;36m42\u001b[0m\u001b[1;33m,\u001b[0m \u001b[1;36m57\u001b[0m\u001b[1;33m)\u001b[0m\u001b[1;33m\u001b[0m\u001b[1;33m\u001b[0m\u001b[0m\n\u001b[0;32m      2\u001b[0m \u001b[0mt1\u001b[0m\u001b[1;33m[\u001b[0m\u001b[1;36m3\u001b[0m\u001b[1;33m]\u001b[0m\u001b[1;33m\u001b[0m\u001b[1;33m\u001b[0m\u001b[0m\n\u001b[1;32m----> 3\u001b[1;33m \u001b[0mt1\u001b[0m\u001b[1;33m[\u001b[0m\u001b[1;36m3\u001b[0m\u001b[1;33m]\u001b[0m \u001b[1;33m=\u001b[0m \u001b[1;36m47\u001b[0m\u001b[1;33m\u001b[0m\u001b[1;33m\u001b[0m\u001b[0m\n\u001b[0m",
            "\u001b[1;31mTypeError\u001b[0m: 'tuple' object does not support item assignment"
          ]
        }
      ]
    },
    {
      "cell_type": "markdown",
      "metadata": {
        "id": "PG6PTjVQtKmr",
        "colab_type": "text"
      },
      "source": [
        "## 4.Python Data Type – List\n",
        "List is similar to tuple, it is also an ordered collection of elements, however list is a mutable data type which means it can be changed unlike tuple which is an immutable data type.\n",
        "\n",
        "A list is enclosed with square brackets and elements are separated by commas. \n",
        "\n",
        "A list is heterogenous; that is the data types of the things need not be the same."
      ]
    },
    {
      "cell_type": "code",
      "metadata": {
        "id": "HFmUTt0mtKms",
        "colab_type": "code",
        "colab": {}
      },
      "source": [
        "f = [1, 1, 2, 3, 5, 8]\n",
        "p = [2, 3, 5, 7]\n",
        "grading = [\"Tests\", \"Quizzes\", \"Individual Labs\", \"Group Labs\", \"Hackathons\"]\n",
        "grades = [300, 60, 120, 60, 120]\n",
        "oddjob = [1, 5.6, True, 4-7j, \"Hello\", [1, 2], [3.9, \"World\"]]"
      ],
      "execution_count": null,
      "outputs": []
    },
    {
      "cell_type": "code",
      "metadata": {
        "id": "49hHwg6ttKmz",
        "colab_type": "code",
        "colab": {},
        "outputId": "0b5972cd-b4f4-4208-c89c-7b015d5f5fe4"
      },
      "source": [
        "f[3] = 10\n",
        "print(f)"
      ],
      "execution_count": null,
      "outputs": [
        {
          "output_type": "stream",
          "text": [
            "[1, 1, 2, 10, 5, 8]\n"
          ],
          "name": "stdout"
        }
      ]
    },
    {
      "cell_type": "code",
      "metadata": {
        "id": "8oHqpZJNtKm9",
        "colab_type": "code",
        "colab": {},
        "outputId": "e8d5e8d5-cdbc-4e50-aab1-20b9e5075565"
      },
      "source": [
        "print(len(grading))"
      ],
      "execution_count": null,
      "outputs": [
        {
          "output_type": "stream",
          "text": [
            "5\n"
          ],
          "name": "stdout"
        }
      ]
    },
    {
      "cell_type": "code",
      "metadata": {
        "id": "_5W8kb4TtKnH",
        "colab_type": "code",
        "colab": {},
        "outputId": "01d62618-5f88-4fce-babc-5de27927a920"
      },
      "source": [
        "# We access individual elements using the index\n",
        "# The first element is at index 0\n",
        "print(grades[1], oddjob[4])\n",
        "# We access the elements from the back using negative indices\n",
        "# -1 is the last, -2 is the last but one and so on\n",
        "print(grading[-1], grading[-3])"
      ],
      "execution_count": null,
      "outputs": [
        {
          "output_type": "stream",
          "text": [
            "60 Hello\n",
            "Hackathons Individual Labs\n"
          ],
          "name": "stdout"
        }
      ]
    },
    {
      "cell_type": "code",
      "metadata": {
        "id": "btdK8mZetKnL",
        "colab_type": "code",
        "colab": {},
        "outputId": "2dda187d-2c96-4c58-ac51-224cb06b040b"
      },
      "source": [
        "print(sum(f), sum(p))"
      ],
      "execution_count": null,
      "outputs": [
        {
          "output_type": "stream",
          "text": [
            "27 17\n"
          ],
          "name": "stdout"
        }
      ]
    },
    {
      "cell_type": "code",
      "metadata": {
        "id": "HzP9uWcHtKnP",
        "colab_type": "code",
        "colab": {},
        "outputId": "e130569e-2781-4885-8bfb-09d0eeb5a061"
      },
      "source": [
        "print(max(grades), min(grades))"
      ],
      "execution_count": null,
      "outputs": [
        {
          "output_type": "stream",
          "text": [
            "300 60\n"
          ],
          "name": "stdout"
        }
      ]
    },
    {
      "cell_type": "markdown",
      "metadata": {
        "id": "6ZvT7ae3tKnS",
        "colab_type": "text"
      },
      "source": [
        "## 5. Python Data Type – Dictionary\n",
        "Dictionary is a collection of key and value pairs. A dictionary doesn’t allow duplicate keys but the values can be duplicate. It is an ordered, indexed and mutable collection of elements. \n",
        "\n",
        "- The keys in a dictionary doesn’t necessarily to be a single data type.\n",
        "\n",
        "- In Python, dictionaries are defined within braces {} with each item being a pair in the form key:value. Key and   value can be of any type.`\n",
        "\n",
        "- To declare a dictionary, you write dictionaryName = {dictionary key : data}`"
      ]
    },
    {
      "cell_type": "code",
      "metadata": {
        "id": "Mi61nVz5tKnT",
        "colab_type": "code",
        "colab": {},
        "outputId": "7eb054bc-94d8-4918-d7f8-690f120bd8a0"
      },
      "source": [
        "my_dict = {'India':'New delhi','Srilanka':'Colombo','Bangladesh':'Dakha','Bhutan':'Thimpu'}\n",
        "my_dict"
      ],
      "execution_count": null,
      "outputs": [
        {
          "output_type": "execute_result",
          "data": {
            "text/plain": [
              "{'India': 'New delhi',\n",
              " 'Srilanka': 'Colombo',\n",
              " 'Bangladesh': 'Dakha',\n",
              " 'Bhutan': 'Thimpu'}"
            ]
          },
          "metadata": {
            "tags": []
          },
          "execution_count": 77
        }
      ]
    },
    {
      "cell_type": "code",
      "metadata": {
        "id": "Xj6u3yqNtKnX",
        "colab_type": "code",
        "colab": {},
        "outputId": "95c9086b-6700-4c51-9d77-fa2399547fd9"
      },
      "source": [
        "type(my_dict)"
      ],
      "execution_count": null,
      "outputs": [
        {
          "output_type": "execute_result",
          "data": {
            "text/plain": [
              "dict"
            ]
          },
          "metadata": {
            "tags": []
          },
          "execution_count": 78
        }
      ]
    },
    {
      "cell_type": "markdown",
      "metadata": {
        "id": "3HRUgFdotKnc",
        "colab_type": "text"
      },
      "source": [
        "###### Selection\n",
        "do selction with a key and get Values"
      ]
    },
    {
      "cell_type": "code",
      "metadata": {
        "id": "wy3eSYPstKnd",
        "colab_type": "code",
        "colab": {},
        "outputId": "1ca63100-bd93-4543-ab54-c6c278d49c84"
      },
      "source": [
        "my_dict['Srilanka']"
      ],
      "execution_count": null,
      "outputs": [
        {
          "output_type": "execute_result",
          "data": {
            "text/plain": [
              "'Colombo'"
            ]
          },
          "metadata": {
            "tags": []
          },
          "execution_count": 84
        }
      ]
    },
    {
      "cell_type": "markdown",
      "metadata": {
        "id": "Q5peIBVOtKni",
        "colab_type": "text"
      },
      "source": [
        "##### using `get( )`"
      ]
    },
    {
      "cell_type": "code",
      "metadata": {
        "id": "chVoXcG2tKnj",
        "colab_type": "code",
        "colab": {},
        "outputId": "c4c71ed3-336c-4788-be2a-65ae902a70ba"
      },
      "source": [
        "my_dict.get('Srilanka')"
      ],
      "execution_count": null,
      "outputs": [
        {
          "output_type": "execute_result",
          "data": {
            "text/plain": [
              "'Colombo'"
            ]
          },
          "metadata": {
            "tags": []
          },
          "execution_count": 80
        }
      ]
    },
    {
      "cell_type": "code",
      "metadata": {
        "id": "Z1mIO2s7tKnr",
        "colab_type": "code",
        "colab": {},
        "outputId": "ee65f968-2a7d-499a-ab70-3f61de4db296"
      },
      "source": [
        "emp = {'Name':['Raju','Raghav','Ram'],'Age':[27,25,26],\n",
        "       'Designation':['DS','DC','JDS']}\n",
        "emp"
      ],
      "execution_count": null,
      "outputs": [
        {
          "output_type": "execute_result",
          "data": {
            "text/plain": [
              "{'Name': ['Raju', 'Raghav', 'Ram'],\n",
              " 'Age': [27, 25, 26],\n",
              " 'Designation': ['DS', 'DC', 'JDS']}"
            ]
          },
          "metadata": {
            "tags": []
          },
          "execution_count": 87
        }
      ]
    },
    {
      "cell_type": "markdown",
      "metadata": {
        "id": "BhSYAyWptKnw",
        "colab_type": "text"
      },
      "source": [
        "## Sets\n",
        "\n",
        "- Collection of elements with different data types \n",
        "- Collection unique elements\n",
        "- Indexing can not  be performed in set\n",
        "- Sets follow order \n",
        "- sets can be built using `set() and {  } "
      ]
    },
    {
      "cell_type": "code",
      "metadata": {
        "id": "lvyErKE4tKnx",
        "colab_type": "code",
        "colab": {},
        "outputId": "59eaf70c-2ec2-4f67-fe82-0b370676cace"
      },
      "source": [
        "# note the double round-brackets while passing more than one value\n",
        "\n",
        "myset1 = set(['Data Science','AI','Machine Learning','Statistics'])\n",
        "myset1"
      ],
      "execution_count": null,
      "outputs": [
        {
          "output_type": "execute_result",
          "data": {
            "text/plain": [
              "{'AI', 'Data Science', 'Machine Learning', 'Statistics'}"
            ]
          },
          "metadata": {
            "tags": []
          },
          "execution_count": 88
        }
      ]
    },
    {
      "cell_type": "code",
      "metadata": {
        "id": "-f6mStk6tKn0",
        "colab_type": "code",
        "colab": {},
        "outputId": "ad0772b5-e68b-4d39-8f9e-6b699ae9531e"
      },
      "source": [
        "A = {1,1,1,2,2,5,10,5,80,80,55,55,60,True, False,0}\n",
        "A"
      ],
      "execution_count": null,
      "outputs": [
        {
          "output_type": "execute_result",
          "data": {
            "text/plain": [
              "{False, 1, 2, 5, 10, 55, 60, 80}"
            ]
          },
          "metadata": {
            "tags": []
          },
          "execution_count": 89
        }
      ]
    },
    {
      "cell_type": "code",
      "metadata": {
        "id": "az7v6OQhtKn3",
        "colab_type": "code",
        "colab": {},
        "outputId": "7ec683f4-8eaa-4587-e0fa-ab81af0a136e"
      },
      "source": [
        "type(A)"
      ],
      "execution_count": null,
      "outputs": [
        {
          "output_type": "execute_result",
          "data": {
            "text/plain": [
              "set"
            ]
          },
          "metadata": {
            "tags": []
          },
          "execution_count": 74
        }
      ]
    },
    {
      "cell_type": "code",
      "metadata": {
        "id": "DjDOn_5PtKn6",
        "colab_type": "code",
        "colab": {},
        "outputId": "8683991a-197d-4938-b056-161c279471a5"
      },
      "source": [
        "len(A)"
      ],
      "execution_count": null,
      "outputs": [
        {
          "output_type": "execute_result",
          "data": {
            "text/plain": [
              "8"
            ]
          },
          "metadata": {
            "tags": []
          },
          "execution_count": 75
        }
      ]
    },
    {
      "cell_type": "markdown",
      "metadata": {
        "id": "aYJdJlHvtKn-",
        "colab_type": "text"
      },
      "source": [
        "## Indexing for sets"
      ]
    },
    {
      "cell_type": "code",
      "metadata": {
        "id": "vOi69FrTtKn_",
        "colab_type": "code",
        "colab": {},
        "outputId": "8a71e064-d1fc-4438-bbbb-aa3b0442f810"
      },
      "source": [
        "A[0]"
      ],
      "execution_count": null,
      "outputs": [
        {
          "output_type": "error",
          "ename": "TypeError",
          "evalue": "'set' object does not support indexing",
          "traceback": [
            "\u001b[1;31m---------------------------------------------------------------------------\u001b[0m",
            "\u001b[1;31mTypeError\u001b[0m                                 Traceback (most recent call last)",
            "\u001b[1;32m<ipython-input-90-782c0e2fe61c>\u001b[0m in \u001b[0;36m<module>\u001b[1;34m\u001b[0m\n\u001b[1;32m----> 1\u001b[1;33m \u001b[0mA\u001b[0m\u001b[1;33m[\u001b[0m\u001b[1;36m0\u001b[0m\u001b[1;33m]\u001b[0m\u001b[1;33m\u001b[0m\u001b[1;33m\u001b[0m\u001b[0m\n\u001b[0m",
            "\u001b[1;31mTypeError\u001b[0m: 'set' object does not support indexing"
          ]
        }
      ]
    },
    {
      "cell_type": "code",
      "metadata": {
        "id": "WXP_VWm0tKoC",
        "colab_type": "code",
        "colab": {}
      },
      "source": [
        "B = {'Innomatics','Technology',1,2,3,3}\n",
        "B"
      ],
      "execution_count": null,
      "outputs": []
    }
  ]
}