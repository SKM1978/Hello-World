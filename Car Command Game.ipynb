{
 "cells": [
  {
   "cell_type": "code",
   "execution_count": 1,
   "metadata": {},
   "outputs": [
    {
     "name": "stdout",
     "output_type": "stream",
     "text": [
      "> start\n",
      "Starting engine. Ready to roll.\n",
      "> stop\n",
      "Engine shut. Taking a break.\n",
      "> start\n",
      "Starting engine. Ready to roll.\n",
      "> go\n",
      "Didn't understand your command. Do I have to start, stop or quit?\n",
      "> start\n",
      "Engine already on. Just press the gas.\n",
      "> start\n",
      "Engine already on. Just press the gas.\n",
      "> stop\n",
      "Engine shut. Taking a break.\n",
      "> start\n",
      "Starting engine. Ready to roll.\n",
      "> quit\n",
      "Stop the engine before quitting.\n",
      "> stop\n",
      "Engine shut. Taking a break.\n",
      "> quit\n",
      "Quit for now. See you later.\n"
     ]
    }
   ],
   "source": [
    "# car command game\n",
    "command=\"\"\n",
    "is_started=False\n",
    "while True:\n",
    "    command=input(\"> \").lower()\n",
    "    if command==\"start\":\n",
    "        if is_started is False:\n",
    "            is_started=True\n",
    "            print(\"Starting engine. Ready to roll.\")\n",
    "        else:\n",
    "            print(\"Engine already on. Just press the gas.\")\n",
    "    elif command==\"stop\":\n",
    "        if is_started is not False:\n",
    "            is_started=False\n",
    "            print(\"Engine shut. Taking a break.\")\n",
    "        else:\n",
    "            print(\"Engine is already shut. Do you wanna quit?\")\n",
    "    elif command==\"quit\":\n",
    "        if is_started is not False:\n",
    "            print(\"Stop the engine before quitting.\")\n",
    "        else:\n",
    "            print(\"Quit for now. See you later.\")\n",
    "            break\n",
    "    else:\n",
    "        print(\"Didn't understand your command. Do I have to start, stop or quit?\")"
   ]
  }
 ],
 "metadata": {
  "kernelspec": {
   "display_name": "Python 3",
   "language": "python",
   "name": "python3"
  },
  "language_info": {
   "codemirror_mode": {
    "name": "ipython",
    "version": 3
   },
   "file_extension": ".py",
   "mimetype": "text/x-python",
   "name": "python",
   "nbconvert_exporter": "python",
   "pygments_lexer": "ipython3",
   "version": "3.8.3"
  }
 },
 "nbformat": 4,
 "nbformat_minor": 4
}
